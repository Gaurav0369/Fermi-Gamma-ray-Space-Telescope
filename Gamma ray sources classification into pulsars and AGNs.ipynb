{
 "cells": [
  {
   "cell_type": "markdown",
   "metadata": {
    "id": "4JMMQAfuLfzp"
   },
   "source": [
    "# Gamma ray sources classification into pulsars and AGNs\n",
    "\n",
    "In the mid-1960s, researchers first discovered pulsars, which emit regular\n",
    "bursts of radio waves and were initially considered enigmatic. It was later\n",
    "found that they were rotating neutron stars emitting radiation that was\n",
    "observed across a broad range of wavelengths, including gamma rays. Since\n",
    "then, gamma-ray astronomy has continued to be a field of active research, and\n",
    "a significant fraction of gamma-ray sources remain unidentified. The goal of\n",
    "this model is to develop a machine learning model that can\n",
    "accurately classify gamma-ray sources based on their characteristics and\n",
    "properties, using data from various space-based observatories. Gamma-ray\n",
    "sources can be broadly classified into two types: AGNs and pulsars. The pulsars\n",
    "can be further classified as millisecond pulsars or young pulsars. Similarly some\n",
    "common types of AGNs include quasars, Seyfert galaxies, and blazars.\n"
   ]
  },
  {
   "cell_type": "code",
   "execution_count": 1,
   "metadata": {
    "executionInfo": {
     "elapsed": 3844,
     "status": "ok",
     "timestamp": 1677508101010,
     "user": {
      "displayName": "Gaurav chauhan",
      "userId": "00578364747584923502"
     },
     "user_tz": -330
    },
    "id": "7DSGlI7HIq5_"
   },
   "outputs": [],
   "source": [
    "#importing libraries\n",
    "import numpy as np\n",
    "import pandas as pd\n",
    "from matplotlib import pyplot as plt\n",
    "%matplotlib inline\n",
    "import seaborn as sns\n",
    "from sklearn.model_selection import train_test_split\n",
    "from sklearn.preprocessing import StandardScaler\n",
    "from sklearn.linear_model import LogisticRegression\n",
    "from sklearn.feature_selection import RFE\n",
    "from sklearn import metrics\n",
    "\n",
    "#making sure all the columns are visible\n",
    "pd.set_option('display.max_columns', None)"
   ]
  },
  {
   "cell_type": "markdown",
   "metadata": {
    "id": "ipmQpFinOOU-"
   },
   "source": [
    "\n",
    "\n",
    "---                                       \n",
    "\n",
    "## 1.Importing and inspecting the gamma ray sources data"
   ]
  },
  {
   "cell_type": "code",
   "execution_count": 2,
   "metadata": {
    "colab": {
     "base_uri": "https://localhost:8080/",
     "height": 374
    },
    "executionInfo": {
     "elapsed": 1936,
     "status": "ok",
     "timestamp": 1677508102940,
     "user": {
      "displayName": "Gaurav chauhan",
      "userId": "00578364747584923502"
     },
     "user_tz": -330
    },
    "id": "dQi9A7GGJZD6",
    "outputId": "ec31a84f-226f-4d6d-b656-ec96379f8591",
    "scrolled": true
   },
   "outputs": [
    {
     "data": {
      "text/html": [
       "<div>\n",
       "<style scoped>\n",
       "    .dataframe tbody tr th:only-of-type {\n",
       "        vertical-align: middle;\n",
       "    }\n",
       "\n",
       "    .dataframe tbody tr th {\n",
       "        vertical-align: top;\n",
       "    }\n",
       "\n",
       "    .dataframe thead th {\n",
       "        text-align: right;\n",
       "    }\n",
       "</style>\n",
       "<table border=\"1\" class=\"dataframe\">\n",
       "  <thead>\n",
       "    <tr style=\"text-align: right;\">\n",
       "      <th></th>\n",
       "      <th>Unnamed: 0</th>\n",
       "      <th>Name</th>\n",
       "      <th>RA (deg)</th>\n",
       "      <th>DEC (deg)</th>\n",
       "      <th>Signif_Avg</th>\n",
       "      <th>Pivot_Energy</th>\n",
       "      <th>Flux1000</th>\n",
       "      <th>Energy_Flux100</th>\n",
       "      <th>PL_Flux_Density</th>\n",
       "      <th>PL_Index</th>\n",
       "      <th>LP_Flux_Density</th>\n",
       "      <th>LP_Index</th>\n",
       "      <th>LP_beta</th>\n",
       "      <th>LP_SigCurv</th>\n",
       "      <th>PLEC_Flux_Density</th>\n",
       "      <th>PLEC_IndexS</th>\n",
       "      <th>PLEC_ExpfactorS</th>\n",
       "      <th>PLEC_Exp_Index</th>\n",
       "      <th>PLEC_SigCurv</th>\n",
       "      <th>Npred</th>\n",
       "      <th>Variability_Index</th>\n",
       "      <th>Frac_Variability</th>\n",
       "      <th>CLASS1</th>\n",
       "      <th>CLASS2</th>\n",
       "    </tr>\n",
       "  </thead>\n",
       "  <tbody>\n",
       "    <tr>\n",
       "      <th>0</th>\n",
       "      <td>0</td>\n",
       "      <td>4FGL J0000.3-7355</td>\n",
       "      <td>0.0983</td>\n",
       "      <td>0.0983</td>\n",
       "      <td>7.459561</td>\n",
       "      <td>2329.5903</td>\n",
       "      <td>1.392216e-10</td>\n",
       "      <td>1.581099e-12</td>\n",
       "      <td>2.610434e-14</td>\n",
       "      <td>2.179690</td>\n",
       "      <td>2.904301e-14</td>\n",
       "      <td>2.063685</td>\n",
       "      <td>0.091939</td>\n",
       "      <td>0.749253</td>\n",
       "      <td>2.918480e-14</td>\n",
       "      <td>1.993013</td>\n",
       "      <td>0.150609</td>\n",
       "      <td>0.666667</td>\n",
       "      <td>1.292339</td>\n",
       "      <td>305.21463</td>\n",
       "      <td>14.602470</td>\n",
       "      <td>0.215777</td>\n",
       "      <td></td>\n",
       "      <td></td>\n",
       "    </tr>\n",
       "    <tr>\n",
       "      <th>1</th>\n",
       "      <td>1</td>\n",
       "      <td>4FGL J0000.5+0743</td>\n",
       "      <td>0.1375</td>\n",
       "      <td>0.1375</td>\n",
       "      <td>5.271726</td>\n",
       "      <td>1304.1947</td>\n",
       "      <td>1.951913e-10</td>\n",
       "      <td>1.121896e-12</td>\n",
       "      <td>1.039931e-13</td>\n",
       "      <td>2.349694</td>\n",
       "      <td>1.575568e-13</td>\n",
       "      <td>2.069591</td>\n",
       "      <td>0.454411</td>\n",
       "      <td>2.549887</td>\n",
       "      <td>1.475405e-13</td>\n",
       "      <td>1.998095</td>\n",
       "      <td>0.586220</td>\n",
       "      <td>0.666667</td>\n",
       "      <td>2.532814</td>\n",
       "      <td>197.24410</td>\n",
       "      <td>25.399525</td>\n",
       "      <td>0.687574</td>\n",
       "      <td></td>\n",
       "      <td></td>\n",
       "    </tr>\n",
       "    <tr>\n",
       "      <th>2</th>\n",
       "      <td>2</td>\n",
       "      <td>4FGL J0000.7+2530</td>\n",
       "      <td>0.1878</td>\n",
       "      <td>0.1878</td>\n",
       "      <td>4.177483</td>\n",
       "      <td>6318.9400</td>\n",
       "      <td>7.202151e-11</td>\n",
       "      <td>8.571274e-13</td>\n",
       "      <td>2.058057e-15</td>\n",
       "      <td>1.852803</td>\n",
       "      <td>3.043761e-15</td>\n",
       "      <td>1.646164</td>\n",
       "      <td>0.376358</td>\n",
       "      <td>1.471138</td>\n",
       "      <td>3.079466e-15</td>\n",
       "      <td>1.507830</td>\n",
       "      <td>0.720244</td>\n",
       "      <td>0.666667</td>\n",
       "      <td>1.562938</td>\n",
       "      <td>87.70652</td>\n",
       "      <td>13.650518</td>\n",
       "      <td>0.000000</td>\n",
       "      <td></td>\n",
       "      <td></td>\n",
       "    </tr>\n",
       "    <tr>\n",
       "      <th>3</th>\n",
       "      <td>3</td>\n",
       "      <td>4FGL J0001.2+4741</td>\n",
       "      <td>0.3126</td>\n",
       "      <td>0.3126</td>\n",
       "      <td>4.692600</td>\n",
       "      <td>2420.5752</td>\n",
       "      <td>1.259796e-10</td>\n",
       "      <td>1.499454e-12</td>\n",
       "      <td>2.156031e-14</td>\n",
       "      <td>2.271696</td>\n",
       "      <td>2.196550e-14</td>\n",
       "      <td>2.254081</td>\n",
       "      <td>0.012156</td>\n",
       "      <td>0.083893</td>\n",
       "      <td>2.228697e-14</td>\n",
       "      <td>2.219642</td>\n",
       "      <td>0.029462</td>\n",
       "      <td>0.666667</td>\n",
       "      <td>0.337723</td>\n",
       "      <td>293.14978</td>\n",
       "      <td>25.313953</td>\n",
       "      <td>0.675882</td>\n",
       "      <td>bcu</td>\n",
       "      <td></td>\n",
       "    </tr>\n",
       "    <tr>\n",
       "      <th>4</th>\n",
       "      <td>4</td>\n",
       "      <td>4FGL J0001.2-0747</td>\n",
       "      <td>0.3151</td>\n",
       "      <td>0.3151</td>\n",
       "      <td>23.782486</td>\n",
       "      <td>1721.6039</td>\n",
       "      <td>7.471219e-10</td>\n",
       "      <td>8.339171e-12</td>\n",
       "      <td>2.656894e-13</td>\n",
       "      <td>2.116692</td>\n",
       "      <td>2.842831e-13</td>\n",
       "      <td>2.078927</td>\n",
       "      <td>0.051182</td>\n",
       "      <td>1.697737</td>\n",
       "      <td>2.813444e-13</td>\n",
       "      <td>2.046604</td>\n",
       "      <td>0.063212</td>\n",
       "      <td>0.666667</td>\n",
       "      <td>1.892928</td>\n",
       "      <td>1192.35190</td>\n",
       "      <td>46.780693</td>\n",
       "      <td>0.406565</td>\n",
       "      <td>bll</td>\n",
       "      <td></td>\n",
       "    </tr>\n",
       "  </tbody>\n",
       "</table>\n",
       "</div>"
      ],
      "text/plain": [
       "   Unnamed: 0                Name  RA (deg)  DEC (deg)  Signif_Avg  \\\n",
       "0           0  4FGL J0000.3-7355     0.0983     0.0983    7.459561   \n",
       "1           1  4FGL J0000.5+0743     0.1375     0.1375    5.271726   \n",
       "2           2  4FGL J0000.7+2530     0.1878     0.1878    4.177483   \n",
       "3           3  4FGL J0001.2+4741     0.3126     0.3126    4.692600   \n",
       "4           4  4FGL J0001.2-0747     0.3151     0.3151   23.782486   \n",
       "\n",
       "   Pivot_Energy      Flux1000  Energy_Flux100  PL_Flux_Density  PL_Index  \\\n",
       "0     2329.5903  1.392216e-10    1.581099e-12     2.610434e-14  2.179690   \n",
       "1     1304.1947  1.951913e-10    1.121896e-12     1.039931e-13  2.349694   \n",
       "2     6318.9400  7.202151e-11    8.571274e-13     2.058057e-15  1.852803   \n",
       "3     2420.5752  1.259796e-10    1.499454e-12     2.156031e-14  2.271696   \n",
       "4     1721.6039  7.471219e-10    8.339171e-12     2.656894e-13  2.116692   \n",
       "\n",
       "   LP_Flux_Density  LP_Index   LP_beta  LP_SigCurv  PLEC_Flux_Density  \\\n",
       "0     2.904301e-14  2.063685  0.091939    0.749253       2.918480e-14   \n",
       "1     1.575568e-13  2.069591  0.454411    2.549887       1.475405e-13   \n",
       "2     3.043761e-15  1.646164  0.376358    1.471138       3.079466e-15   \n",
       "3     2.196550e-14  2.254081  0.012156    0.083893       2.228697e-14   \n",
       "4     2.842831e-13  2.078927  0.051182    1.697737       2.813444e-13   \n",
       "\n",
       "   PLEC_IndexS  PLEC_ExpfactorS  PLEC_Exp_Index  PLEC_SigCurv       Npred  \\\n",
       "0     1.993013         0.150609        0.666667      1.292339   305.21463   \n",
       "1     1.998095         0.586220        0.666667      2.532814   197.24410   \n",
       "2     1.507830         0.720244        0.666667      1.562938    87.70652   \n",
       "3     2.219642         0.029462        0.666667      0.337723   293.14978   \n",
       "4     2.046604         0.063212        0.666667      1.892928  1192.35190   \n",
       "\n",
       "   Variability_Index  Frac_Variability CLASS1      CLASS2  \n",
       "0          14.602470          0.215777                     \n",
       "1          25.399525          0.687574                     \n",
       "2          13.650518          0.000000                     \n",
       "3          25.313953          0.675882  bcu                \n",
       "4          46.780693          0.406565  bll                "
      ]
     },
     "execution_count": 2,
     "metadata": {},
     "output_type": "execute_result"
    }
   ],
   "source": [
    "#Loading the dataset\n",
    "GS = pd.read_csv(\"4FGL_DR3_Dataset_Enigma.csv\")\n",
    "\n",
    "GS.head()"
   ]
  },
  {
   "cell_type": "code",
   "execution_count": 3,
   "metadata": {
    "colab": {
     "base_uri": "https://localhost:8080/",
     "height": 374
    },
    "executionInfo": {
     "elapsed": 28,
     "status": "ok",
     "timestamp": 1677508102940,
     "user": {
      "displayName": "Gaurav chauhan",
      "userId": "00578364747584923502"
     },
     "user_tz": -330
    },
    "id": "2f3PozCiJnpB",
    "outputId": "0596d0ba-8441-424e-e4bd-dbf598c559d5"
   },
   "outputs": [
    {
     "data": {
      "text/html": [
       "<div>\n",
       "<style scoped>\n",
       "    .dataframe tbody tr th:only-of-type {\n",
       "        vertical-align: middle;\n",
       "    }\n",
       "\n",
       "    .dataframe tbody tr th {\n",
       "        vertical-align: top;\n",
       "    }\n",
       "\n",
       "    .dataframe thead th {\n",
       "        text-align: right;\n",
       "    }\n",
       "</style>\n",
       "<table border=\"1\" class=\"dataframe\">\n",
       "  <thead>\n",
       "    <tr style=\"text-align: right;\">\n",
       "      <th></th>\n",
       "      <th>SNo</th>\n",
       "      <th>Name</th>\n",
       "      <th>RA (deg)</th>\n",
       "      <th>DEC (deg)</th>\n",
       "      <th>Signif_Avg</th>\n",
       "      <th>Pivot_Energy</th>\n",
       "      <th>Flux1000</th>\n",
       "      <th>Energy_Flux100</th>\n",
       "      <th>PL_Flux_Density</th>\n",
       "      <th>PL_Index</th>\n",
       "      <th>LP_Flux_Density</th>\n",
       "      <th>LP_Index</th>\n",
       "      <th>LP_beta</th>\n",
       "      <th>LP_SigCurv</th>\n",
       "      <th>PLEC_Flux_Density</th>\n",
       "      <th>PLEC_IndexS</th>\n",
       "      <th>PLEC_ExpfactorS</th>\n",
       "      <th>PLEC_Exp_Index</th>\n",
       "      <th>PLEC_SigCurv</th>\n",
       "      <th>Npred</th>\n",
       "      <th>Variability_Index</th>\n",
       "      <th>Frac_Variability</th>\n",
       "      <th>CLASS1</th>\n",
       "      <th>CLASS2</th>\n",
       "    </tr>\n",
       "  </thead>\n",
       "  <tbody>\n",
       "    <tr>\n",
       "      <th>0</th>\n",
       "      <td>0</td>\n",
       "      <td>4FGL J0000.3-7355</td>\n",
       "      <td>0.0983</td>\n",
       "      <td>0.0983</td>\n",
       "      <td>7.459561</td>\n",
       "      <td>2329.5903</td>\n",
       "      <td>1.392216e-10</td>\n",
       "      <td>1.581099e-12</td>\n",
       "      <td>2.610434e-14</td>\n",
       "      <td>2.179690</td>\n",
       "      <td>2.904301e-14</td>\n",
       "      <td>2.063685</td>\n",
       "      <td>0.091939</td>\n",
       "      <td>0.749253</td>\n",
       "      <td>2.918480e-14</td>\n",
       "      <td>1.993013</td>\n",
       "      <td>0.150609</td>\n",
       "      <td>0.666667</td>\n",
       "      <td>1.292339</td>\n",
       "      <td>305.21463</td>\n",
       "      <td>14.602470</td>\n",
       "      <td>0.215777</td>\n",
       "      <td></td>\n",
       "      <td></td>\n",
       "    </tr>\n",
       "    <tr>\n",
       "      <th>1</th>\n",
       "      <td>1</td>\n",
       "      <td>4FGL J0000.5+0743</td>\n",
       "      <td>0.1375</td>\n",
       "      <td>0.1375</td>\n",
       "      <td>5.271726</td>\n",
       "      <td>1304.1947</td>\n",
       "      <td>1.951913e-10</td>\n",
       "      <td>1.121896e-12</td>\n",
       "      <td>1.039931e-13</td>\n",
       "      <td>2.349694</td>\n",
       "      <td>1.575568e-13</td>\n",
       "      <td>2.069591</td>\n",
       "      <td>0.454411</td>\n",
       "      <td>2.549887</td>\n",
       "      <td>1.475405e-13</td>\n",
       "      <td>1.998095</td>\n",
       "      <td>0.586220</td>\n",
       "      <td>0.666667</td>\n",
       "      <td>2.532814</td>\n",
       "      <td>197.24410</td>\n",
       "      <td>25.399525</td>\n",
       "      <td>0.687574</td>\n",
       "      <td></td>\n",
       "      <td></td>\n",
       "    </tr>\n",
       "    <tr>\n",
       "      <th>2</th>\n",
       "      <td>2</td>\n",
       "      <td>4FGL J0000.7+2530</td>\n",
       "      <td>0.1878</td>\n",
       "      <td>0.1878</td>\n",
       "      <td>4.177483</td>\n",
       "      <td>6318.9400</td>\n",
       "      <td>7.202151e-11</td>\n",
       "      <td>8.571274e-13</td>\n",
       "      <td>2.058057e-15</td>\n",
       "      <td>1.852803</td>\n",
       "      <td>3.043761e-15</td>\n",
       "      <td>1.646164</td>\n",
       "      <td>0.376358</td>\n",
       "      <td>1.471138</td>\n",
       "      <td>3.079466e-15</td>\n",
       "      <td>1.507830</td>\n",
       "      <td>0.720244</td>\n",
       "      <td>0.666667</td>\n",
       "      <td>1.562938</td>\n",
       "      <td>87.70652</td>\n",
       "      <td>13.650518</td>\n",
       "      <td>0.000000</td>\n",
       "      <td></td>\n",
       "      <td></td>\n",
       "    </tr>\n",
       "    <tr>\n",
       "      <th>3</th>\n",
       "      <td>3</td>\n",
       "      <td>4FGL J0001.2+4741</td>\n",
       "      <td>0.3126</td>\n",
       "      <td>0.3126</td>\n",
       "      <td>4.692600</td>\n",
       "      <td>2420.5752</td>\n",
       "      <td>1.259796e-10</td>\n",
       "      <td>1.499454e-12</td>\n",
       "      <td>2.156031e-14</td>\n",
       "      <td>2.271696</td>\n",
       "      <td>2.196550e-14</td>\n",
       "      <td>2.254081</td>\n",
       "      <td>0.012156</td>\n",
       "      <td>0.083893</td>\n",
       "      <td>2.228697e-14</td>\n",
       "      <td>2.219642</td>\n",
       "      <td>0.029462</td>\n",
       "      <td>0.666667</td>\n",
       "      <td>0.337723</td>\n",
       "      <td>293.14978</td>\n",
       "      <td>25.313953</td>\n",
       "      <td>0.675882</td>\n",
       "      <td>bcu</td>\n",
       "      <td></td>\n",
       "    </tr>\n",
       "    <tr>\n",
       "      <th>4</th>\n",
       "      <td>4</td>\n",
       "      <td>4FGL J0001.2-0747</td>\n",
       "      <td>0.3151</td>\n",
       "      <td>0.3151</td>\n",
       "      <td>23.782486</td>\n",
       "      <td>1721.6039</td>\n",
       "      <td>7.471219e-10</td>\n",
       "      <td>8.339171e-12</td>\n",
       "      <td>2.656894e-13</td>\n",
       "      <td>2.116692</td>\n",
       "      <td>2.842831e-13</td>\n",
       "      <td>2.078927</td>\n",
       "      <td>0.051182</td>\n",
       "      <td>1.697737</td>\n",
       "      <td>2.813444e-13</td>\n",
       "      <td>2.046604</td>\n",
       "      <td>0.063212</td>\n",
       "      <td>0.666667</td>\n",
       "      <td>1.892928</td>\n",
       "      <td>1192.35190</td>\n",
       "      <td>46.780693</td>\n",
       "      <td>0.406565</td>\n",
       "      <td>bll</td>\n",
       "      <td></td>\n",
       "    </tr>\n",
       "  </tbody>\n",
       "</table>\n",
       "</div>"
      ],
      "text/plain": [
       "   SNo                Name  RA (deg)  DEC (deg)  Signif_Avg  Pivot_Energy  \\\n",
       "0    0  4FGL J0000.3-7355     0.0983     0.0983    7.459561     2329.5903   \n",
       "1    1  4FGL J0000.5+0743     0.1375     0.1375    5.271726     1304.1947   \n",
       "2    2  4FGL J0000.7+2530     0.1878     0.1878    4.177483     6318.9400   \n",
       "3    3  4FGL J0001.2+4741     0.3126     0.3126    4.692600     2420.5752   \n",
       "4    4  4FGL J0001.2-0747     0.3151     0.3151   23.782486     1721.6039   \n",
       "\n",
       "       Flux1000  Energy_Flux100  PL_Flux_Density  PL_Index  LP_Flux_Density  \\\n",
       "0  1.392216e-10    1.581099e-12     2.610434e-14  2.179690     2.904301e-14   \n",
       "1  1.951913e-10    1.121896e-12     1.039931e-13  2.349694     1.575568e-13   \n",
       "2  7.202151e-11    8.571274e-13     2.058057e-15  1.852803     3.043761e-15   \n",
       "3  1.259796e-10    1.499454e-12     2.156031e-14  2.271696     2.196550e-14   \n",
       "4  7.471219e-10    8.339171e-12     2.656894e-13  2.116692     2.842831e-13   \n",
       "\n",
       "   LP_Index   LP_beta  LP_SigCurv  PLEC_Flux_Density  PLEC_IndexS  \\\n",
       "0  2.063685  0.091939    0.749253       2.918480e-14     1.993013   \n",
       "1  2.069591  0.454411    2.549887       1.475405e-13     1.998095   \n",
       "2  1.646164  0.376358    1.471138       3.079466e-15     1.507830   \n",
       "3  2.254081  0.012156    0.083893       2.228697e-14     2.219642   \n",
       "4  2.078927  0.051182    1.697737       2.813444e-13     2.046604   \n",
       "\n",
       "   PLEC_ExpfactorS  PLEC_Exp_Index  PLEC_SigCurv       Npred  \\\n",
       "0         0.150609        0.666667      1.292339   305.21463   \n",
       "1         0.586220        0.666667      2.532814   197.24410   \n",
       "2         0.720244        0.666667      1.562938    87.70652   \n",
       "3         0.029462        0.666667      0.337723   293.14978   \n",
       "4         0.063212        0.666667      1.892928  1192.35190   \n",
       "\n",
       "   Variability_Index  Frac_Variability CLASS1      CLASS2  \n",
       "0          14.602470          0.215777                     \n",
       "1          25.399525          0.687574                     \n",
       "2          13.650518          0.000000                     \n",
       "3          25.313953          0.675882  bcu                \n",
       "4          46.780693          0.406565  bll                "
      ]
     },
     "execution_count": 3,
     "metadata": {},
     "output_type": "execute_result"
    }
   ],
   "source": [
    "GS.rename(columns={'Unnamed: 0':'SNo'},inplace=True)\n",
    "GS.head()"
   ]
  },
  {
   "cell_type": "code",
   "execution_count": 4,
   "metadata": {
    "colab": {
     "base_uri": "https://localhost:8080/",
     "height": 364
    },
    "executionInfo": {
     "elapsed": 27,
     "status": "ok",
     "timestamp": 1677508102940,
     "user": {
      "displayName": "Gaurav chauhan",
      "userId": "00578364747584923502"
     },
     "user_tz": -330
    },
    "id": "LXFSnbttgGhr",
    "outputId": "f01df10a-9cb3-4657-8a9c-43a0110696e9"
   },
   "outputs": [
    {
     "data": {
      "text/html": [
       "<div>\n",
       "<style scoped>\n",
       "    .dataframe tbody tr th:only-of-type {\n",
       "        vertical-align: middle;\n",
       "    }\n",
       "\n",
       "    .dataframe tbody tr th {\n",
       "        vertical-align: top;\n",
       "    }\n",
       "\n",
       "    .dataframe thead th {\n",
       "        text-align: right;\n",
       "    }\n",
       "</style>\n",
       "<table border=\"1\" class=\"dataframe\">\n",
       "  <thead>\n",
       "    <tr style=\"text-align: right;\">\n",
       "      <th></th>\n",
       "      <th>SNo</th>\n",
       "      <th>RA (deg)</th>\n",
       "      <th>DEC (deg)</th>\n",
       "      <th>Signif_Avg</th>\n",
       "      <th>Pivot_Energy</th>\n",
       "      <th>Flux1000</th>\n",
       "      <th>Energy_Flux100</th>\n",
       "      <th>PL_Flux_Density</th>\n",
       "      <th>PL_Index</th>\n",
       "      <th>LP_Flux_Density</th>\n",
       "      <th>LP_Index</th>\n",
       "      <th>LP_beta</th>\n",
       "      <th>LP_SigCurv</th>\n",
       "      <th>PLEC_Flux_Density</th>\n",
       "      <th>PLEC_IndexS</th>\n",
       "      <th>PLEC_ExpfactorS</th>\n",
       "      <th>PLEC_Exp_Index</th>\n",
       "      <th>PLEC_SigCurv</th>\n",
       "      <th>Npred</th>\n",
       "      <th>Variability_Index</th>\n",
       "      <th>Frac_Variability</th>\n",
       "    </tr>\n",
       "  </thead>\n",
       "  <tbody>\n",
       "    <tr>\n",
       "      <th>count</th>\n",
       "      <td>6659.000000</td>\n",
       "      <td>6659.000000</td>\n",
       "      <td>6659.000000</td>\n",
       "      <td>6658.000000</td>\n",
       "      <td>6659.000000</td>\n",
       "      <td>6.659000e+03</td>\n",
       "      <td>6.659000e+03</td>\n",
       "      <td>6.658000e+03</td>\n",
       "      <td>6658.000000</td>\n",
       "      <td>6.659000e+03</td>\n",
       "      <td>6659.000000</td>\n",
       "      <td>6659.000000</td>\n",
       "      <td>6659.000000</td>\n",
       "      <td>6.658000e+03</td>\n",
       "      <td>6658.000000</td>\n",
       "      <td>6658.000000</td>\n",
       "      <td>6658.000000</td>\n",
       "      <td>6659.000000</td>\n",
       "      <td>6659.000000</td>\n",
       "      <td>6.659000e+03</td>\n",
       "      <td>6659.000000</td>\n",
       "    </tr>\n",
       "    <tr>\n",
       "      <th>mean</th>\n",
       "      <td>3329.000000</td>\n",
       "      <td>190.437892</td>\n",
       "      <td>190.437892</td>\n",
       "      <td>15.639615</td>\n",
       "      <td>2737.386617</td>\n",
       "      <td>1.453465e-09</td>\n",
       "      <td>1.266817e-11</td>\n",
       "      <td>3.625125e-11</td>\n",
       "      <td>2.283192</td>\n",
       "      <td>2.767488e-11</td>\n",
       "      <td>2.215740</td>\n",
       "      <td>0.230219</td>\n",
       "      <td>2.975724</td>\n",
       "      <td>2.785301e-11</td>\n",
       "      <td>2.142938</td>\n",
       "      <td>0.417266</td>\n",
       "      <td>0.665748</td>\n",
       "      <td>2.977417</td>\n",
       "      <td>1352.746395</td>\n",
       "      <td>-inf</td>\n",
       "      <td>-inf</td>\n",
       "    </tr>\n",
       "    <tr>\n",
       "      <th>std</th>\n",
       "      <td>1922.432053</td>\n",
       "      <td>99.673564</td>\n",
       "      <td>99.673564</td>\n",
       "      <td>28.926910</td>\n",
       "      <td>4208.618377</td>\n",
       "      <td>1.913959e-08</td>\n",
       "      <td>1.322343e-10</td>\n",
       "      <td>2.853454e-09</td>\n",
       "      <td>0.295798</td>\n",
       "      <td>2.129364e-09</td>\n",
       "      <td>0.385238</td>\n",
       "      <td>0.255427</td>\n",
       "      <td>5.916809</td>\n",
       "      <td>2.146587e-09</td>\n",
       "      <td>0.374804</td>\n",
       "      <td>0.624839</td>\n",
       "      <td>0.019202</td>\n",
       "      <td>5.987263</td>\n",
       "      <td>5375.139223</td>\n",
       "      <td>NaN</td>\n",
       "      <td>NaN</td>\n",
       "    </tr>\n",
       "    <tr>\n",
       "      <th>min</th>\n",
       "      <td>0.000000</td>\n",
       "      <td>0.098300</td>\n",
       "      <td>0.098300</td>\n",
       "      <td>1.623841</td>\n",
       "      <td>49.677998</td>\n",
       "      <td>3.740937e-13</td>\n",
       "      <td>3.707689e-13</td>\n",
       "      <td>2.682798e-17</td>\n",
       "      <td>1.014061</td>\n",
       "      <td>3.623631e-17</td>\n",
       "      <td>-0.048980</td>\n",
       "      <td>-0.151934</td>\n",
       "      <td>0.000000</td>\n",
       "      <td>4.000388e-17</td>\n",
       "      <td>-0.159668</td>\n",
       "      <td>-0.368838</td>\n",
       "      <td>0.207654</td>\n",
       "      <td>0.000000</td>\n",
       "      <td>5.918154</td>\n",
       "      <td>-inf</td>\n",
       "      <td>-inf</td>\n",
       "    </tr>\n",
       "    <tr>\n",
       "      <th>25%</th>\n",
       "      <td>1664.500000</td>\n",
       "      <td>107.921600</td>\n",
       "      <td>107.921600</td>\n",
       "      <td>5.441673</td>\n",
       "      <td>1098.925400</td>\n",
       "      <td>1.584481e-10</td>\n",
       "      <td>1.846526e-12</td>\n",
       "      <td>2.747724e-14</td>\n",
       "      <td>2.064106</td>\n",
       "      <td>3.177824e-14</td>\n",
       "      <td>1.948876</td>\n",
       "      <td>0.054827</td>\n",
       "      <td>0.984587</td>\n",
       "      <td>3.141187e-14</td>\n",
       "      <td>1.891283</td>\n",
       "      <td>0.056860</td>\n",
       "      <td>0.666667</td>\n",
       "      <td>1.006731</td>\n",
       "      <td>299.277260</td>\n",
       "      <td>9.496667e+00</td>\n",
       "      <td>0.000000</td>\n",
       "    </tr>\n",
       "    <tr>\n",
       "      <th>50%</th>\n",
       "      <td>3329.000000</td>\n",
       "      <td>203.322700</td>\n",
       "      <td>203.322700</td>\n",
       "      <td>7.901763</td>\n",
       "      <td>1764.813600</td>\n",
       "      <td>3.025504e-10</td>\n",
       "      <td>3.295702e-12</td>\n",
       "      <td>1.422794e-13</td>\n",
       "      <td>2.313304</td>\n",
       "      <td>1.799026e-13</td>\n",
       "      <td>2.224967</td>\n",
       "      <td>0.138951</td>\n",
       "      <td>2.038423</td>\n",
       "      <td>1.755163e-13</td>\n",
       "      <td>2.164486</td>\n",
       "      <td>0.170415</td>\n",
       "      <td>0.666667</td>\n",
       "      <td>2.033031</td>\n",
       "      <td>549.045170</td>\n",
       "      <td>1.419961e+01</td>\n",
       "      <td>0.182504</td>\n",
       "    </tr>\n",
       "    <tr>\n",
       "      <th>75%</th>\n",
       "      <td>4993.500000</td>\n",
       "      <td>272.013650</td>\n",
       "      <td>272.013650</td>\n",
       "      <td>14.593597</td>\n",
       "      <td>3105.348600</td>\n",
       "      <td>6.986070e-10</td>\n",
       "      <td>7.068370e-12</td>\n",
       "      <td>5.537922e-13</td>\n",
       "      <td>2.508057</td>\n",
       "      <td>7.314475e-13</td>\n",
       "      <td>2.492634</td>\n",
       "      <td>0.332463</td>\n",
       "      <td>3.520772</td>\n",
       "      <td>7.245303e-13</td>\n",
       "      <td>2.412008</td>\n",
       "      <td>0.550371</td>\n",
       "      <td>0.666667</td>\n",
       "      <td>3.507771</td>\n",
       "      <td>1009.155375</td>\n",
       "      <td>2.525354e+01</td>\n",
       "      <td>0.471393</td>\n",
       "    </tr>\n",
       "    <tr>\n",
       "      <th>max</th>\n",
       "      <td>6658.000000</td>\n",
       "      <td>359.990800</td>\n",
       "      <td>359.990800</td>\n",
       "      <td>884.642940</td>\n",
       "      <td>195054.750000</td>\n",
       "      <td>1.333140e-06</td>\n",
       "      <td>9.292083e-09</td>\n",
       "      <td>2.328326e-07</td>\n",
       "      <td>3.371371</td>\n",
       "      <td>1.737617e-07</td>\n",
       "      <td>3.444003</td>\n",
       "      <td>1.000000</td>\n",
       "      <td>239.436390</td>\n",
       "      <td>1.751540e-07</td>\n",
       "      <td>3.318735</td>\n",
       "      <td>5.448646</td>\n",
       "      <td>1.000000</td>\n",
       "      <td>244.335510</td>\n",
       "      <td>261898.020000</td>\n",
       "      <td>8.434076e+04</td>\n",
       "      <td>2.910003</td>\n",
       "    </tr>\n",
       "  </tbody>\n",
       "</table>\n",
       "</div>"
      ],
      "text/plain": [
       "               SNo     RA (deg)    DEC (deg)   Signif_Avg   Pivot_Energy  \\\n",
       "count  6659.000000  6659.000000  6659.000000  6658.000000    6659.000000   \n",
       "mean   3329.000000   190.437892   190.437892    15.639615    2737.386617   \n",
       "std    1922.432053    99.673564    99.673564    28.926910    4208.618377   \n",
       "min       0.000000     0.098300     0.098300     1.623841      49.677998   \n",
       "25%    1664.500000   107.921600   107.921600     5.441673    1098.925400   \n",
       "50%    3329.000000   203.322700   203.322700     7.901763    1764.813600   \n",
       "75%    4993.500000   272.013650   272.013650    14.593597    3105.348600   \n",
       "max    6658.000000   359.990800   359.990800   884.642940  195054.750000   \n",
       "\n",
       "           Flux1000  Energy_Flux100  PL_Flux_Density     PL_Index  \\\n",
       "count  6.659000e+03    6.659000e+03     6.658000e+03  6658.000000   \n",
       "mean   1.453465e-09    1.266817e-11     3.625125e-11     2.283192   \n",
       "std    1.913959e-08    1.322343e-10     2.853454e-09     0.295798   \n",
       "min    3.740937e-13    3.707689e-13     2.682798e-17     1.014061   \n",
       "25%    1.584481e-10    1.846526e-12     2.747724e-14     2.064106   \n",
       "50%    3.025504e-10    3.295702e-12     1.422794e-13     2.313304   \n",
       "75%    6.986070e-10    7.068370e-12     5.537922e-13     2.508057   \n",
       "max    1.333140e-06    9.292083e-09     2.328326e-07     3.371371   \n",
       "\n",
       "       LP_Flux_Density     LP_Index      LP_beta   LP_SigCurv  \\\n",
       "count     6.659000e+03  6659.000000  6659.000000  6659.000000   \n",
       "mean      2.767488e-11     2.215740     0.230219     2.975724   \n",
       "std       2.129364e-09     0.385238     0.255427     5.916809   \n",
       "min       3.623631e-17    -0.048980    -0.151934     0.000000   \n",
       "25%       3.177824e-14     1.948876     0.054827     0.984587   \n",
       "50%       1.799026e-13     2.224967     0.138951     2.038423   \n",
       "75%       7.314475e-13     2.492634     0.332463     3.520772   \n",
       "max       1.737617e-07     3.444003     1.000000   239.436390   \n",
       "\n",
       "       PLEC_Flux_Density  PLEC_IndexS  PLEC_ExpfactorS  PLEC_Exp_Index  \\\n",
       "count       6.658000e+03  6658.000000      6658.000000     6658.000000   \n",
       "mean        2.785301e-11     2.142938         0.417266        0.665748   \n",
       "std         2.146587e-09     0.374804         0.624839        0.019202   \n",
       "min         4.000388e-17    -0.159668        -0.368838        0.207654   \n",
       "25%         3.141187e-14     1.891283         0.056860        0.666667   \n",
       "50%         1.755163e-13     2.164486         0.170415        0.666667   \n",
       "75%         7.245303e-13     2.412008         0.550371        0.666667   \n",
       "max         1.751540e-07     3.318735         5.448646        1.000000   \n",
       "\n",
       "       PLEC_SigCurv          Npred  Variability_Index  Frac_Variability  \n",
       "count   6659.000000    6659.000000       6.659000e+03       6659.000000  \n",
       "mean       2.977417    1352.746395               -inf              -inf  \n",
       "std        5.987263    5375.139223                NaN               NaN  \n",
       "min        0.000000       5.918154               -inf              -inf  \n",
       "25%        1.006731     299.277260       9.496667e+00          0.000000  \n",
       "50%        2.033031     549.045170       1.419961e+01          0.182504  \n",
       "75%        3.507771    1009.155375       2.525354e+01          0.471393  \n",
       "max      244.335510  261898.020000       8.434076e+04          2.910003  "
      ]
     },
     "execution_count": 4,
     "metadata": {},
     "output_type": "execute_result"
    }
   ],
   "source": [
    "#let's look at the statistical aspects of the dataframe\n",
    "GS.describe()"
   ]
  },
  {
   "cell_type": "code",
   "execution_count": 5,
   "metadata": {
    "colab": {
     "base_uri": "https://localhost:8080/",
     "height": 364
    },
    "executionInfo": {
     "elapsed": 27,
     "status": "ok",
     "timestamp": 1677508102941,
     "user": {
      "displayName": "Gaurav chauhan",
      "userId": "00578364747584923502"
     },
     "user_tz": -330
    },
    "id": "Qa_A-7vFJnpH",
    "outputId": "1432fda4-7bf9-46c2-87d4-bc14287987bc"
   },
   "outputs": [
    {
     "data": {
      "text/html": [
       "<div>\n",
       "<style scoped>\n",
       "    .dataframe tbody tr th:only-of-type {\n",
       "        vertical-align: middle;\n",
       "    }\n",
       "\n",
       "    .dataframe tbody tr th {\n",
       "        vertical-align: top;\n",
       "    }\n",
       "\n",
       "    .dataframe thead th {\n",
       "        text-align: right;\n",
       "    }\n",
       "</style>\n",
       "<table border=\"1\" class=\"dataframe\">\n",
       "  <thead>\n",
       "    <tr style=\"text-align: right;\">\n",
       "      <th></th>\n",
       "      <th>SNo</th>\n",
       "      <th>RA (deg)</th>\n",
       "      <th>DEC (deg)</th>\n",
       "      <th>Signif_Avg</th>\n",
       "      <th>Pivot_Energy</th>\n",
       "      <th>Flux1000</th>\n",
       "      <th>Energy_Flux100</th>\n",
       "      <th>PL_Flux_Density</th>\n",
       "      <th>PL_Index</th>\n",
       "      <th>LP_Flux_Density</th>\n",
       "      <th>LP_Index</th>\n",
       "      <th>LP_beta</th>\n",
       "      <th>LP_SigCurv</th>\n",
       "      <th>PLEC_Flux_Density</th>\n",
       "      <th>PLEC_IndexS</th>\n",
       "      <th>PLEC_ExpfactorS</th>\n",
       "      <th>PLEC_Exp_Index</th>\n",
       "      <th>PLEC_SigCurv</th>\n",
       "      <th>Npred</th>\n",
       "      <th>Variability_Index</th>\n",
       "      <th>Frac_Variability</th>\n",
       "    </tr>\n",
       "  </thead>\n",
       "  <tbody>\n",
       "    <tr>\n",
       "      <th>count</th>\n",
       "      <td>6659.000000</td>\n",
       "      <td>6659.000000</td>\n",
       "      <td>6659.000000</td>\n",
       "      <td>6658.000000</td>\n",
       "      <td>6659.000000</td>\n",
       "      <td>6.659000e+03</td>\n",
       "      <td>6.659000e+03</td>\n",
       "      <td>6.658000e+03</td>\n",
       "      <td>6658.000000</td>\n",
       "      <td>6.659000e+03</td>\n",
       "      <td>6659.000000</td>\n",
       "      <td>6659.000000</td>\n",
       "      <td>6659.000000</td>\n",
       "      <td>6.658000e+03</td>\n",
       "      <td>6658.000000</td>\n",
       "      <td>6658.000000</td>\n",
       "      <td>6658.000000</td>\n",
       "      <td>6659.000000</td>\n",
       "      <td>6659.000000</td>\n",
       "      <td>6659.000000</td>\n",
       "      <td>6659.000000</td>\n",
       "    </tr>\n",
       "    <tr>\n",
       "      <th>mean</th>\n",
       "      <td>3329.000000</td>\n",
       "      <td>190.437892</td>\n",
       "      <td>190.437892</td>\n",
       "      <td>15.639615</td>\n",
       "      <td>2737.386617</td>\n",
       "      <td>1.453465e-09</td>\n",
       "      <td>1.266817e-11</td>\n",
       "      <td>3.625125e-11</td>\n",
       "      <td>2.283192</td>\n",
       "      <td>2.767488e-11</td>\n",
       "      <td>2.215740</td>\n",
       "      <td>0.230219</td>\n",
       "      <td>2.975724</td>\n",
       "      <td>2.785301e-11</td>\n",
       "      <td>2.142938</td>\n",
       "      <td>0.417266</td>\n",
       "      <td>0.665748</td>\n",
       "      <td>2.977417</td>\n",
       "      <td>1352.746395</td>\n",
       "      <td>141.873469</td>\n",
       "      <td>0.285620</td>\n",
       "    </tr>\n",
       "    <tr>\n",
       "      <th>std</th>\n",
       "      <td>1922.432053</td>\n",
       "      <td>99.673564</td>\n",
       "      <td>99.673564</td>\n",
       "      <td>28.926910</td>\n",
       "      <td>4208.618377</td>\n",
       "      <td>1.913959e-08</td>\n",
       "      <td>1.322343e-10</td>\n",
       "      <td>2.853454e-09</td>\n",
       "      <td>0.295798</td>\n",
       "      <td>2.129364e-09</td>\n",
       "      <td>0.385238</td>\n",
       "      <td>0.255427</td>\n",
       "      <td>5.916809</td>\n",
       "      <td>2.146587e-09</td>\n",
       "      <td>0.374804</td>\n",
       "      <td>0.624839</td>\n",
       "      <td>0.019202</td>\n",
       "      <td>5.987263</td>\n",
       "      <td>5375.139223</td>\n",
       "      <td>1688.776708</td>\n",
       "      <td>0.350881</td>\n",
       "    </tr>\n",
       "    <tr>\n",
       "      <th>min</th>\n",
       "      <td>0.000000</td>\n",
       "      <td>0.098300</td>\n",
       "      <td>0.098300</td>\n",
       "      <td>1.623841</td>\n",
       "      <td>49.677998</td>\n",
       "      <td>3.740937e-13</td>\n",
       "      <td>3.707689e-13</td>\n",
       "      <td>2.682798e-17</td>\n",
       "      <td>1.014061</td>\n",
       "      <td>3.623631e-17</td>\n",
       "      <td>-0.048980</td>\n",
       "      <td>-0.151934</td>\n",
       "      <td>0.000000</td>\n",
       "      <td>4.000388e-17</td>\n",
       "      <td>-0.159668</td>\n",
       "      <td>-0.368838</td>\n",
       "      <td>0.207654</td>\n",
       "      <td>0.000000</td>\n",
       "      <td>5.918154</td>\n",
       "      <td>0.000000</td>\n",
       "      <td>0.000000</td>\n",
       "    </tr>\n",
       "    <tr>\n",
       "      <th>25%</th>\n",
       "      <td>1664.500000</td>\n",
       "      <td>107.921600</td>\n",
       "      <td>107.921600</td>\n",
       "      <td>5.441673</td>\n",
       "      <td>1098.925400</td>\n",
       "      <td>1.584481e-10</td>\n",
       "      <td>1.846526e-12</td>\n",
       "      <td>2.747724e-14</td>\n",
       "      <td>2.064106</td>\n",
       "      <td>3.177824e-14</td>\n",
       "      <td>1.948876</td>\n",
       "      <td>0.054827</td>\n",
       "      <td>0.984587</td>\n",
       "      <td>3.141187e-14</td>\n",
       "      <td>1.891283</td>\n",
       "      <td>0.056860</td>\n",
       "      <td>0.666667</td>\n",
       "      <td>1.006731</td>\n",
       "      <td>299.277260</td>\n",
       "      <td>9.496667</td>\n",
       "      <td>0.000000</td>\n",
       "    </tr>\n",
       "    <tr>\n",
       "      <th>50%</th>\n",
       "      <td>3329.000000</td>\n",
       "      <td>203.322700</td>\n",
       "      <td>203.322700</td>\n",
       "      <td>7.901763</td>\n",
       "      <td>1764.813600</td>\n",
       "      <td>3.025504e-10</td>\n",
       "      <td>3.295702e-12</td>\n",
       "      <td>1.422794e-13</td>\n",
       "      <td>2.313304</td>\n",
       "      <td>1.799026e-13</td>\n",
       "      <td>2.224967</td>\n",
       "      <td>0.138951</td>\n",
       "      <td>2.038423</td>\n",
       "      <td>1.755163e-13</td>\n",
       "      <td>2.164486</td>\n",
       "      <td>0.170415</td>\n",
       "      <td>0.666667</td>\n",
       "      <td>2.033031</td>\n",
       "      <td>549.045170</td>\n",
       "      <td>14.199614</td>\n",
       "      <td>0.182504</td>\n",
       "    </tr>\n",
       "    <tr>\n",
       "      <th>75%</th>\n",
       "      <td>4993.500000</td>\n",
       "      <td>272.013650</td>\n",
       "      <td>272.013650</td>\n",
       "      <td>14.593597</td>\n",
       "      <td>3105.348600</td>\n",
       "      <td>6.986070e-10</td>\n",
       "      <td>7.068370e-12</td>\n",
       "      <td>5.537922e-13</td>\n",
       "      <td>2.508057</td>\n",
       "      <td>7.314475e-13</td>\n",
       "      <td>2.492634</td>\n",
       "      <td>0.332463</td>\n",
       "      <td>3.520772</td>\n",
       "      <td>7.245303e-13</td>\n",
       "      <td>2.412008</td>\n",
       "      <td>0.550371</td>\n",
       "      <td>0.666667</td>\n",
       "      <td>3.507771</td>\n",
       "      <td>1009.155375</td>\n",
       "      <td>25.253543</td>\n",
       "      <td>0.471393</td>\n",
       "    </tr>\n",
       "    <tr>\n",
       "      <th>max</th>\n",
       "      <td>6658.000000</td>\n",
       "      <td>359.990800</td>\n",
       "      <td>359.990800</td>\n",
       "      <td>884.642940</td>\n",
       "      <td>195054.750000</td>\n",
       "      <td>1.333140e-06</td>\n",
       "      <td>9.292083e-09</td>\n",
       "      <td>2.328326e-07</td>\n",
       "      <td>3.371371</td>\n",
       "      <td>1.737617e-07</td>\n",
       "      <td>3.444003</td>\n",
       "      <td>1.000000</td>\n",
       "      <td>239.436390</td>\n",
       "      <td>1.751540e-07</td>\n",
       "      <td>3.318735</td>\n",
       "      <td>5.448646</td>\n",
       "      <td>1.000000</td>\n",
       "      <td>244.335510</td>\n",
       "      <td>261898.020000</td>\n",
       "      <td>84340.760000</td>\n",
       "      <td>2.910003</td>\n",
       "    </tr>\n",
       "  </tbody>\n",
       "</table>\n",
       "</div>"
      ],
      "text/plain": [
       "               SNo     RA (deg)    DEC (deg)   Signif_Avg   Pivot_Energy  \\\n",
       "count  6659.000000  6659.000000  6659.000000  6658.000000    6659.000000   \n",
       "mean   3329.000000   190.437892   190.437892    15.639615    2737.386617   \n",
       "std    1922.432053    99.673564    99.673564    28.926910    4208.618377   \n",
       "min       0.000000     0.098300     0.098300     1.623841      49.677998   \n",
       "25%    1664.500000   107.921600   107.921600     5.441673    1098.925400   \n",
       "50%    3329.000000   203.322700   203.322700     7.901763    1764.813600   \n",
       "75%    4993.500000   272.013650   272.013650    14.593597    3105.348600   \n",
       "max    6658.000000   359.990800   359.990800   884.642940  195054.750000   \n",
       "\n",
       "           Flux1000  Energy_Flux100  PL_Flux_Density     PL_Index  \\\n",
       "count  6.659000e+03    6.659000e+03     6.658000e+03  6658.000000   \n",
       "mean   1.453465e-09    1.266817e-11     3.625125e-11     2.283192   \n",
       "std    1.913959e-08    1.322343e-10     2.853454e-09     0.295798   \n",
       "min    3.740937e-13    3.707689e-13     2.682798e-17     1.014061   \n",
       "25%    1.584481e-10    1.846526e-12     2.747724e-14     2.064106   \n",
       "50%    3.025504e-10    3.295702e-12     1.422794e-13     2.313304   \n",
       "75%    6.986070e-10    7.068370e-12     5.537922e-13     2.508057   \n",
       "max    1.333140e-06    9.292083e-09     2.328326e-07     3.371371   \n",
       "\n",
       "       LP_Flux_Density     LP_Index      LP_beta   LP_SigCurv  \\\n",
       "count     6.659000e+03  6659.000000  6659.000000  6659.000000   \n",
       "mean      2.767488e-11     2.215740     0.230219     2.975724   \n",
       "std       2.129364e-09     0.385238     0.255427     5.916809   \n",
       "min       3.623631e-17    -0.048980    -0.151934     0.000000   \n",
       "25%       3.177824e-14     1.948876     0.054827     0.984587   \n",
       "50%       1.799026e-13     2.224967     0.138951     2.038423   \n",
       "75%       7.314475e-13     2.492634     0.332463     3.520772   \n",
       "max       1.737617e-07     3.444003     1.000000   239.436390   \n",
       "\n",
       "       PLEC_Flux_Density  PLEC_IndexS  PLEC_ExpfactorS  PLEC_Exp_Index  \\\n",
       "count       6.658000e+03  6658.000000      6658.000000     6658.000000   \n",
       "mean        2.785301e-11     2.142938         0.417266        0.665748   \n",
       "std         2.146587e-09     0.374804         0.624839        0.019202   \n",
       "min         4.000388e-17    -0.159668        -0.368838        0.207654   \n",
       "25%         3.141187e-14     1.891283         0.056860        0.666667   \n",
       "50%         1.755163e-13     2.164486         0.170415        0.666667   \n",
       "75%         7.245303e-13     2.412008         0.550371        0.666667   \n",
       "max         1.751540e-07     3.318735         5.448646        1.000000   \n",
       "\n",
       "       PLEC_SigCurv          Npred  Variability_Index  Frac_Variability  \n",
       "count   6659.000000    6659.000000        6659.000000       6659.000000  \n",
       "mean       2.977417    1352.746395         141.873469          0.285620  \n",
       "std        5.987263    5375.139223        1688.776708          0.350881  \n",
       "min        0.000000       5.918154           0.000000          0.000000  \n",
       "25%        1.006731     299.277260           9.496667          0.000000  \n",
       "50%        2.033031     549.045170          14.199614          0.182504  \n",
       "75%        3.507771    1009.155375          25.253543          0.471393  \n",
       "max      244.335510  261898.020000       84340.760000          2.910003  "
      ]
     },
     "execution_count": 5,
     "metadata": {},
     "output_type": "execute_result"
    }
   ],
   "source": [
    "# replace -np.inf with a specific value, 0\n",
    "GS.replace(-np.inf, 0, inplace=True)\n",
    "GS.describe()"
   ]
  },
  {
   "cell_type": "code",
   "execution_count": 6,
   "metadata": {
    "colab": {
     "base_uri": "https://localhost:8080/"
    },
    "executionInfo": {
     "elapsed": 26,
     "status": "ok",
     "timestamp": 1677508102941,
     "user": {
      "displayName": "Gaurav chauhan",
      "userId": "00578364747584923502"
     },
     "user_tz": -330
    },
    "id": "zQIlGXCoJnpJ",
    "outputId": "9a688e07-0c4b-454c-8a60-6c44de996f68",
    "scrolled": true
   },
   "outputs": [
    {
     "name": "stdout",
     "output_type": "stream",
     "text": [
      "<class 'pandas.core.frame.DataFrame'>\n",
      "RangeIndex: 6659 entries, 0 to 6658\n",
      "Data columns (total 24 columns):\n",
      " #   Column             Non-Null Count  Dtype  \n",
      "---  ------             --------------  -----  \n",
      " 0   SNo                6659 non-null   int64  \n",
      " 1   Name               6659 non-null   object \n",
      " 2   RA (deg)           6659 non-null   float64\n",
      " 3   DEC (deg)          6659 non-null   float64\n",
      " 4   Signif_Avg         6658 non-null   float64\n",
      " 5   Pivot_Energy       6659 non-null   float64\n",
      " 6   Flux1000           6659 non-null   float64\n",
      " 7   Energy_Flux100     6659 non-null   float64\n",
      " 8   PL_Flux_Density    6658 non-null   float64\n",
      " 9   PL_Index           6658 non-null   float64\n",
      " 10  LP_Flux_Density    6659 non-null   float64\n",
      " 11  LP_Index           6659 non-null   float64\n",
      " 12  LP_beta            6659 non-null   float64\n",
      " 13  LP_SigCurv         6659 non-null   float64\n",
      " 14  PLEC_Flux_Density  6658 non-null   float64\n",
      " 15  PLEC_IndexS        6658 non-null   float64\n",
      " 16  PLEC_ExpfactorS    6658 non-null   float64\n",
      " 17  PLEC_Exp_Index     6658 non-null   float64\n",
      " 18  PLEC_SigCurv       6659 non-null   float64\n",
      " 19  Npred              6659 non-null   float64\n",
      " 20  Variability_Index  6659 non-null   float64\n",
      " 21  Frac_Variability   6659 non-null   float64\n",
      " 22  CLASS1             6659 non-null   object \n",
      " 23  CLASS2             6659 non-null   object \n",
      "dtypes: float64(20), int64(1), object(3)\n",
      "memory usage: 1.2+ MB\n"
     ]
    }
   ],
   "source": [
    "# Let's see the type of each column\n",
    "GS.info()"
   ]
  },
  {
   "cell_type": "markdown",
   "metadata": {
    "id": "SVN0mA1kO_bE"
   },
   "source": [
    "\n",
    "\n",
    "---\n",
    "\n",
    "\n",
    "\n",
    "---\n",
    "\n",
    "\n",
    "## 2. Data preperation"
   ]
  },
  {
   "cell_type": "code",
   "execution_count": 7,
   "metadata": {
    "colab": {
     "base_uri": "https://localhost:8080/"
    },
    "executionInfo": {
     "elapsed": 24,
     "status": "ok",
     "timestamp": 1677508102942,
     "user": {
      "displayName": "Gaurav chauhan",
      "userId": "00578364747584923502"
     },
     "user_tz": -330
    },
    "id": "bTAsVwSQJnpN",
    "outputId": "b4b27b9f-caa5-4932-ace2-a20c5b0ee5e3"
   },
   "outputs": [
    {
     "data": {
      "text/plain": [
       "array(['     ', 'bcu  ', 'bll  ', 'fsrq ', 'unk  ', 'spp  ', 'PSR  ',\n",
       "       'rdg  ', 'agn  ', 'FSRQ ', 'MSP  ', 'glc  ', 'snr  ', 'gal  ',\n",
       "       'sbg  ', 'BLL  ', 'GAL  ', 'sfr  ', 'bin  ', 'SNR  ', 'HMB  ',\n",
       "       'RDG  ', 'nlsy1', 'msp  ', 'lmb  ', 'NOV  ', 'LMB  ', 'css  ',\n",
       "       'AGN  ', 'PWN  ', 'pwn  ', 'BCU  ', 'hmb  ', 'ssrq ', 'NLSY1',\n",
       "       'psr  ', 'SFR  ', 'BIN  ', 'sey  ', 'GC   '], dtype=object)"
      ]
     },
     "execution_count": 7,
     "metadata": {},
     "output_type": "execute_result"
    }
   ],
   "source": [
    "#checking the unique values of the class\n",
    "GS['CLASS1'].unique()"
   ]
  },
  {
   "cell_type": "code",
   "execution_count": 8,
   "metadata": {
    "colab": {
     "base_uri": "https://localhost:8080/"
    },
    "executionInfo": {
     "elapsed": 21,
     "status": "ok",
     "timestamp": 1677508102942,
     "user": {
      "displayName": "Gaurav chauhan",
      "userId": "00578364747584923502"
     },
     "user_tz": -330
    },
    "id": "Qcc57wcTJnpO",
    "outputId": "ec87d796-07ba-4f89-c530-352bddb72f8b"
   },
   "outputs": [
    {
     "data": {
      "text/plain": [
       "array(['', 'bcu', 'bll', 'fsrq', 'unk', 'spp', 'PSR', 'rdg', 'agn',\n",
       "       'FSRQ', 'MSP', 'glc', 'snr', 'gal', 'sbg', 'BLL', 'GAL', 'sfr',\n",
       "       'bin', 'SNR', 'HMB', 'RDG', 'nlsy1', 'msp', 'lmb', 'NOV', 'LMB',\n",
       "       'css', 'AGN', 'PWN', 'pwn', 'BCU', 'hmb', 'ssrq', 'NLSY1', 'psr',\n",
       "       'SFR', 'BIN', 'sey', 'GC'], dtype=object)"
      ]
     },
     "execution_count": 8,
     "metadata": {},
     "output_type": "execute_result"
    }
   ],
   "source": [
    "#and removing empty spaces\n",
    "GS['CLASS1'] = GS['CLASS1'].str.strip()\n",
    "GS['CLASS1'].unique()"
   ]
  },
  {
   "cell_type": "code",
   "execution_count": 9,
   "metadata": {
    "colab": {
     "base_uri": "https://localhost:8080/"
    },
    "executionInfo": {
     "elapsed": 19,
     "status": "ok",
     "timestamp": 1677508102942,
     "user": {
      "displayName": "Gaurav chauhan",
      "userId": "00578364747584923502"
     },
     "user_tz": -330
    },
    "id": "mC9RTJh3JnpP",
    "outputId": "121aecb0-47ea-4327-9ec7-405c32de9cbd"
   },
   "outputs": [
    {
     "data": {
      "text/plain": [
       "array(['          ', 'agn       ', 'unk       ', 'sey       ',\n",
       "       'clust     ', 'psr       ', 'sbg       ', 'msp       ',\n",
       "       'bin       ', 'glc       '], dtype=object)"
      ]
     },
     "execution_count": 9,
     "metadata": {},
     "output_type": "execute_result"
    }
   ],
   "source": [
    "GS['CLASS2'].unique()"
   ]
  },
  {
   "cell_type": "code",
   "execution_count": 10,
   "metadata": {
    "colab": {
     "base_uri": "https://localhost:8080/"
    },
    "executionInfo": {
     "elapsed": 19,
     "status": "ok",
     "timestamp": 1677508102943,
     "user": {
      "displayName": "Gaurav chauhan",
      "userId": "00578364747584923502"
     },
     "user_tz": -330
    },
    "id": "Mhq8EXeeJnpQ",
    "outputId": "09c7fadd-fc1d-4de1-ba3e-1f14f17121c0"
   },
   "outputs": [
    {
     "data": {
      "text/plain": [
       "array(['', 'agn', 'unk', 'sey', 'clust', 'psr', 'sbg', 'msp', 'bin',\n",
       "       'glc'], dtype=object)"
      ]
     },
     "execution_count": 10,
     "metadata": {},
     "output_type": "execute_result"
    }
   ],
   "source": [
    "GS['CLASS2'] = GS['CLASS2'].str.strip()\n",
    "GS['CLASS2'].unique()"
   ]
  },
  {
   "cell_type": "code",
   "execution_count": 11,
   "metadata": {
    "colab": {
     "base_uri": "https://localhost:8080/"
    },
    "executionInfo": {
     "elapsed": 17,
     "status": "ok",
     "timestamp": 1677508102943,
     "user": {
      "displayName": "Gaurav chauhan",
      "userId": "00578364747584923502"
     },
     "user_tz": -330
    },
    "id": "mHzlNIF0JnpS",
    "outputId": "78f50c19-18e3-4ee4-c18c-257a3acc0964"
   },
   "outputs": [
    {
     "data": {
      "text/plain": [
       "array(['', 'bcu', 'bll', 'fsrq', 'unk', 'spp', 'psr', 'rdg', 'agn', 'msp',\n",
       "       'glc', 'snr', 'gal', 'sbg', 'sfr', 'bin', 'hmb', 'nlsy1', 'lmb',\n",
       "       'nov', 'css', 'pwn', 'ssrq', 'sey', 'gc'], dtype=object)"
      ]
     },
     "execution_count": 11,
     "metadata": {},
     "output_type": "execute_result"
    }
   ],
   "source": [
    "#making all the categorical columns lowercase to avoid duplicates\n",
    "for col in ['CLASS1','CLASS2']:\n",
    "    GS[col] = GS[col].str.lower()\n",
    "GS['CLASS1'].unique()"
   ]
  },
  {
   "cell_type": "code",
   "execution_count": 12,
   "metadata": {
    "colab": {
     "base_uri": "https://localhost:8080/"
    },
    "executionInfo": {
     "elapsed": 15,
     "status": "ok",
     "timestamp": 1677508102943,
     "user": {
      "displayName": "Gaurav chauhan",
      "userId": "00578364747584923502"
     },
     "user_tz": -330
    },
    "id": "b2xtwqUiJnpU",
    "outputId": "44e8ae9a-139c-49f7-8e7e-1770b3009f5c"
   },
   "outputs": [
    {
     "data": {
      "text/plain": [
       "array(['', 'bcu', 'bll', 'fsrq', 'unk', 'spp', 'psr', 'agn', 'rdg', 'msp',\n",
       "       'glc', 'snr', 'gal', 'sbg', 'sfr', 'sey', 'clust', 'bin', 'hmb',\n",
       "       'nlsy1', 'lmb', 'nov', 'css', 'pwn', 'ssrq', 'gc'], dtype=object)"
      ]
     },
     "execution_count": 12,
     "metadata": {},
     "output_type": "execute_result"
    }
   ],
   "source": [
    "GS['CLASS'] = GS['CLASS1']+GS['CLASS2']\n",
    "GS.drop(['CLASS1','CLASS2'],axis=1,inplace=True)\n",
    "GS['CLASS'].unique()"
   ]
  },
  {
   "cell_type": "code",
   "execution_count": 13,
   "metadata": {
    "colab": {
     "base_uri": "https://localhost:8080/"
    },
    "executionInfo": {
     "elapsed": 865,
     "status": "ok",
     "timestamp": 1677508103794,
     "user": {
      "displayName": "Gaurav chauhan",
      "userId": "00578364747584923502"
     },
     "user_tz": -330
    },
    "id": "3CNeeSRxJnpV",
    "outputId": "751858ef-e544-4c58-8f04-d31edfaf3792"
   },
   "outputs": [
    {
     "data": {
      "text/plain": [
       "array([nan, 'bcu', 'bll', 'fsrq', 'unk', 'spp', 'psr', 'agn', 'rdg',\n",
       "       'msp', 'glc', 'snr', 'gal', 'sbg', 'sfr', 'sey', 'clust', 'bin',\n",
       "       'hmb', 'nlsy1', 'lmb', 'nov', 'css', 'pwn', 'ssrq', 'gc'],\n",
       "      dtype=object)"
      ]
     },
     "execution_count": 13,
     "metadata": {},
     "output_type": "execute_result"
    }
   ],
   "source": [
    "# replace empty strings with NaN\n",
    "GS.replace('', np.nan, inplace=True)\n",
    "GS['CLASS'].unique()"
   ]
  },
  {
   "cell_type": "markdown",
   "metadata": {
    "id": "nt-P4hzzPjQ5"
   },
   "source": [
    "### ***Now here we can see abbrivations of different types of gamma ray sources in the class variable***\n",
    "\n",
    "***Here's a brief explaination:-***\n",
    "\n",
    "\n",
    "1. bcu: BL Lacertae object of uncertain type. A type of blazar with a featureless optical spectrum and strong radio emission.\n",
    "\n",
    "2. bll: BL Lacertae object. A type of blazar with a featureless optical spectrum and strong radio emission.\n",
    "\n",
    "3. fsrq: Flat Spectrum Radio Quasar. A type of blazar with a steep radio spectrum and a flat gamma-ray spectrum.\n",
    "\n",
    "4. unk: Unknown. Refers to a gamma-ray source whose nature and origin are still unclear.\n",
    "\n",
    "5. spp: pectrally peculiar stars. A group of stars that exhibit unusual spectral features, often due to abnormal abundances of certain elements on their surfaces.\n",
    "\n",
    "6. psr: Pulsar. A highly magnetized rotating neutron star that emits beams of electromagnetic radiation, including gamma rays, from its magnetic poles.\n",
    "\n",
    "7. agn: Active Galactic Nucleus. A compact region at the center of a galaxy that emits high levels of radiation across the electromagnetic spectrum, including gamma rays.\n",
    "\n",
    "8. rdg: Radio Galaxy. A type of galaxy that emits large amounts of radio waves, often as a result of an active galactic nucleus.\n",
    "\n",
    "9. msp: Millisecond Pulsar. A type of pulsar with a very short period of rotation, usually less than 30 milliseconds.\n",
    "\n",
    "10. glc: Globular Cluster. A spherical collection of stars bound together by gravity that orbits a galaxy.\n",
    "\n",
    "11. snr: Supernova Remnant. The leftover material from a supernova explosion that emits radiation, including gamma rays.\n",
    "\n",
    "12. gal: Galaxy. A large group of stars, gas, and dust bound together by gravity.\n",
    "\n",
    "13. sbg: Starburst Galaxy. A type of galaxy that is undergoing a burst of star formation.\n",
    "\n",
    "14. sfr: Star Formation Region. A region of space where new stars are being formed.\n",
    "\n",
    "15. sey: Seyfert Galaxy. A type of active galaxy with a bright, compact nucleus that emits radiation across the electromagnetic spectrum, including gamma rays.\n",
    "\n",
    "16. clust: Cluster of Galaxies. A group of galaxies that are gravitationally bound together.\n",
    "\n",
    "17. bin: Binary System. A system of two objects, such as stars, that orbit around a common center of mass.\n",
    "\n",
    "18. hmb: High-Mass Binary. A binary system consisting of two high-mass stars.\n",
    "\n",
    "19. nlsy1: Narrow-Line Seyfert 1. A type of Seyfert galaxy with a narrow emission line in its spectrum.\n",
    "\n",
    "20. lmb: Low-Mass Binary. A binary system consisting of two low-mass stars.\n",
    "\n",
    "21. nov: Nova. A type of stellar explosion that occurs in a binary system where one of the stars is a white dwarf.\n",
    "\n",
    "22. css: Compact Steep-Spectrum Source. A type of radio source with a steep radio spectrum and a compact size.\n",
    "\n",
    "23. pwn: Pulsar Wind Nebula. A nebula that forms when the wind of high-energy particles from a pulsar interacts with the surrounding gas and dust.\n",
    "\n",
    "24. ssrq: Soft Spectral Radio Quasar. A type of quasar with a steep radio spectrum and a soft gamma-ray spectrum.\n",
    "\n",
    "25. gc: Galactic Center. The central region of the Milky Way galaxy, which is a strong source of gamma rays."
   ]
  },
  {
   "cell_type": "code",
   "execution_count": 14,
   "metadata": {
    "colab": {
     "base_uri": "https://localhost:8080/"
    },
    "executionInfo": {
     "elapsed": 55,
     "status": "ok",
     "timestamp": 1677508103795,
     "user": {
      "displayName": "Gaurav chauhan",
      "userId": "00578364747584923502"
     },
     "user_tz": -330
    },
    "id": "5Uf6UDVAJnpY",
    "outputId": "262fed29-b630-4a71-df3d-4b0e6621a315",
    "scrolled": true
   },
   "outputs": [
    {
     "name": "stdout",
     "output_type": "stream",
     "text": [
      "<class 'pandas.core.frame.DataFrame'>\n",
      "RangeIndex: 6659 entries, 0 to 6658\n",
      "Data columns (total 23 columns):\n",
      " #   Column             Non-Null Count  Dtype  \n",
      "---  ------             --------------  -----  \n",
      " 0   SNo                6659 non-null   int64  \n",
      " 1   Name               6659 non-null   object \n",
      " 2   RA (deg)           6659 non-null   float64\n",
      " 3   DEC (deg)          6659 non-null   float64\n",
      " 4   Signif_Avg         6658 non-null   float64\n",
      " 5   Pivot_Energy       6659 non-null   float64\n",
      " 6   Flux1000           6659 non-null   float64\n",
      " 7   Energy_Flux100     6659 non-null   float64\n",
      " 8   PL_Flux_Density    6658 non-null   float64\n",
      " 9   PL_Index           6658 non-null   float64\n",
      " 10  LP_Flux_Density    6659 non-null   float64\n",
      " 11  LP_Index           6659 non-null   float64\n",
      " 12  LP_beta            6659 non-null   float64\n",
      " 13  LP_SigCurv         6659 non-null   float64\n",
      " 14  PLEC_Flux_Density  6658 non-null   float64\n",
      " 15  PLEC_IndexS        6658 non-null   float64\n",
      " 16  PLEC_ExpfactorS    6658 non-null   float64\n",
      " 17  PLEC_Exp_Index     6658 non-null   float64\n",
      " 18  PLEC_SigCurv       6659 non-null   float64\n",
      " 19  Npred              6659 non-null   float64\n",
      " 20  Variability_Index  6659 non-null   float64\n",
      " 21  Frac_Variability   6659 non-null   float64\n",
      " 22  CLASS              4811 non-null   object \n",
      "dtypes: float64(20), int64(1), object(2)\n",
      "memory usage: 1.2+ MB\n"
     ]
    }
   ],
   "source": [
    "# checking for missing values\n",
    "GS.info()"
   ]
  },
  {
   "cell_type": "code",
   "execution_count": 15,
   "metadata": {
    "colab": {
     "base_uri": "https://localhost:8080/"
    },
    "executionInfo": {
     "elapsed": 50,
     "status": "ok",
     "timestamp": 1677508103797,
     "user": {
      "displayName": "Gaurav chauhan",
      "userId": "00578364747584923502"
     },
     "user_tz": -330
    },
    "id": "NE9lnGAKJnpa",
    "outputId": "b92f6225-bac8-4d4f-ba80-66178226aba9"
   },
   "outputs": [
    {
     "data": {
      "text/plain": [
       "SNo                     0\n",
       "Name                    0\n",
       "RA (deg)                0\n",
       "DEC (deg)               0\n",
       "Signif_Avg              1\n",
       "Pivot_Energy            0\n",
       "Flux1000                0\n",
       "Energy_Flux100          0\n",
       "PL_Flux_Density         1\n",
       "PL_Index                1\n",
       "LP_Flux_Density         0\n",
       "LP_Index                0\n",
       "LP_beta                 0\n",
       "LP_SigCurv              0\n",
       "PLEC_Flux_Density       1\n",
       "PLEC_IndexS             1\n",
       "PLEC_ExpfactorS         1\n",
       "PLEC_Exp_Index          1\n",
       "PLEC_SigCurv            0\n",
       "Npred                   0\n",
       "Variability_Index       0\n",
       "Frac_Variability        0\n",
       "CLASS                1848\n",
       "dtype: int64"
      ]
     },
     "execution_count": 15,
     "metadata": {},
     "output_type": "execute_result"
    }
   ],
   "source": [
    "# checking for missing values\n",
    "GS.isnull().sum()"
   ]
  },
  {
   "cell_type": "code",
   "execution_count": 16,
   "metadata": {
    "colab": {
     "base_uri": "https://localhost:8080/"
    },
    "executionInfo": {
     "elapsed": 44,
     "status": "ok",
     "timestamp": 1677508103798,
     "user": {
      "displayName": "Gaurav chauhan",
      "userId": "00578364747584923502"
     },
     "user_tz": -330
    },
    "id": "BD9OJGZlJnpb",
    "outputId": "f8dfb413-b9cd-448a-bab7-8c7b7cf16365"
   },
   "outputs": [
    {
     "data": {
      "text/plain": [
       "SNo                  0\n",
       "Name                 0\n",
       "RA (deg)             0\n",
       "DEC (deg)            0\n",
       "Signif_Avg           0\n",
       "Pivot_Energy         0\n",
       "Flux1000             0\n",
       "Energy_Flux100       0\n",
       "PL_Flux_Density      0\n",
       "PL_Index             0\n",
       "LP_Flux_Density      0\n",
       "LP_Index             0\n",
       "LP_beta              0\n",
       "LP_SigCurv           0\n",
       "PLEC_Flux_Density    0\n",
       "PLEC_IndexS          0\n",
       "PLEC_ExpfactorS      0\n",
       "PLEC_Exp_Index       0\n",
       "PLEC_SigCurv         0\n",
       "Npred                0\n",
       "Variability_Index    0\n",
       "Frac_Variability     0\n",
       "CLASS                0\n",
       "dtype: int64"
      ]
     },
     "execution_count": 16,
     "metadata": {},
     "output_type": "execute_result"
    }
   ],
   "source": [
    "# impute missing values with median and checking again\n",
    "GS.dropna(inplace=True)\n",
    "GS.isnull().sum()"
   ]
  },
  {
   "cell_type": "markdown",
   "metadata": {
    "id": "CYRMXrGYUF2P"
   },
   "source": [
    "\n",
    "\n",
    "---\n",
    "\n",
    "## 3. Train Test Split"
   ]
  },
  {
   "cell_type": "code",
   "execution_count": 17,
   "metadata": {
    "colab": {
     "base_uri": "https://localhost:8080/",
     "height": 364
    },
    "executionInfo": {
     "elapsed": 38,
     "status": "ok",
     "timestamp": 1677508103799,
     "user": {
      "displayName": "Gaurav chauhan",
      "userId": "00578364747584923502"
     },
     "user_tz": -330
    },
    "id": "tly1jcz9Jnpe",
    "outputId": "2e2ea49e-4703-4088-cce0-d544d16b3de1"
   },
   "outputs": [
    {
     "data": {
      "text/html": [
       "<div>\n",
       "<style scoped>\n",
       "    .dataframe tbody tr th:only-of-type {\n",
       "        vertical-align: middle;\n",
       "    }\n",
       "\n",
       "    .dataframe tbody tr th {\n",
       "        vertical-align: top;\n",
       "    }\n",
       "\n",
       "    .dataframe thead th {\n",
       "        text-align: right;\n",
       "    }\n",
       "</style>\n",
       "<table border=\"1\" class=\"dataframe\">\n",
       "  <thead>\n",
       "    <tr style=\"text-align: right;\">\n",
       "      <th></th>\n",
       "      <th>RA (deg)</th>\n",
       "      <th>DEC (deg)</th>\n",
       "      <th>Signif_Avg</th>\n",
       "      <th>Pivot_Energy</th>\n",
       "      <th>Flux1000</th>\n",
       "      <th>Energy_Flux100</th>\n",
       "      <th>PL_Flux_Density</th>\n",
       "      <th>PL_Index</th>\n",
       "      <th>LP_Flux_Density</th>\n",
       "      <th>LP_Index</th>\n",
       "      <th>LP_beta</th>\n",
       "      <th>LP_SigCurv</th>\n",
       "      <th>PLEC_Flux_Density</th>\n",
       "      <th>PLEC_IndexS</th>\n",
       "      <th>PLEC_ExpfactorS</th>\n",
       "      <th>PLEC_Exp_Index</th>\n",
       "      <th>PLEC_SigCurv</th>\n",
       "      <th>Npred</th>\n",
       "      <th>Variability_Index</th>\n",
       "      <th>Frac_Variability</th>\n",
       "    </tr>\n",
       "  </thead>\n",
       "  <tbody>\n",
       "    <tr>\n",
       "      <th>count</th>\n",
       "      <td>4810.000000</td>\n",
       "      <td>4810.000000</td>\n",
       "      <td>4810.000000</td>\n",
       "      <td>4810.000000</td>\n",
       "      <td>4.810000e+03</td>\n",
       "      <td>4.810000e+03</td>\n",
       "      <td>4.810000e+03</td>\n",
       "      <td>4810.000000</td>\n",
       "      <td>4.810000e+03</td>\n",
       "      <td>4810.000000</td>\n",
       "      <td>4810.000000</td>\n",
       "      <td>4810.000000</td>\n",
       "      <td>4.810000e+03</td>\n",
       "      <td>4810.000000</td>\n",
       "      <td>4810.000000</td>\n",
       "      <td>4810.000000</td>\n",
       "      <td>4810.000000</td>\n",
       "      <td>4810.000000</td>\n",
       "      <td>4810.000000</td>\n",
       "      <td>4810.000000</td>\n",
       "    </tr>\n",
       "    <tr>\n",
       "      <th>mean</th>\n",
       "      <td>182.355077</td>\n",
       "      <td>182.355077</td>\n",
       "      <td>18.811330</td>\n",
       "      <td>2652.431183</td>\n",
       "      <td>1.762063e-09</td>\n",
       "      <td>1.527858e-11</td>\n",
       "      <td>5.005888e-11</td>\n",
       "      <td>2.254534</td>\n",
       "      <td>3.813039e-11</td>\n",
       "      <td>2.181060</td>\n",
       "      <td>0.187287</td>\n",
       "      <td>3.113043</td>\n",
       "      <td>3.837233e-11</td>\n",
       "      <td>2.120971</td>\n",
       "      <td>0.320614</td>\n",
       "      <td>0.665395</td>\n",
       "      <td>3.130517</td>\n",
       "      <td>1625.278195</td>\n",
       "      <td>191.752099</td>\n",
       "      <td>0.345808</td>\n",
       "    </tr>\n",
       "    <tr>\n",
       "      <th>std</th>\n",
       "      <td>101.411838</td>\n",
       "      <td>101.411838</td>\n",
       "      <td>33.348128</td>\n",
       "      <td>4026.303113</td>\n",
       "      <td>2.249212e-08</td>\n",
       "      <td>1.552055e-10</td>\n",
       "      <td>3.357141e-09</td>\n",
       "      <td>0.298521</td>\n",
       "      <td>2.505421e-09</td>\n",
       "      <td>0.376522</td>\n",
       "      <td>0.221611</td>\n",
       "      <td>6.845041</td>\n",
       "      <td>2.525496e-09</td>\n",
       "      <td>0.368820</td>\n",
       "      <td>0.527601</td>\n",
       "      <td>0.022582</td>\n",
       "      <td>6.926288</td>\n",
       "      <td>6277.673159</td>\n",
       "      <td>1984.823787</td>\n",
       "      <td>0.374629</td>\n",
       "    </tr>\n",
       "    <tr>\n",
       "      <th>min</th>\n",
       "      <td>0.312600</td>\n",
       "      <td>0.312600</td>\n",
       "      <td>2.229098</td>\n",
       "      <td>49.677998</td>\n",
       "      <td>3.740937e-13</td>\n",
       "      <td>3.707689e-13</td>\n",
       "      <td>6.224186e-17</td>\n",
       "      <td>1.058625</td>\n",
       "      <td>7.244539e-17</td>\n",
       "      <td>-0.048980</td>\n",
       "      <td>-0.116156</td>\n",
       "      <td>0.000000</td>\n",
       "      <td>7.593357e-17</td>\n",
       "      <td>-0.159668</td>\n",
       "      <td>-0.143681</td>\n",
       "      <td>0.207654</td>\n",
       "      <td>0.000000</td>\n",
       "      <td>9.056292</td>\n",
       "      <td>1.590456</td>\n",
       "      <td>0.000000</td>\n",
       "    </tr>\n",
       "    <tr>\n",
       "      <th>25%</th>\n",
       "      <td>96.102175</td>\n",
       "      <td>96.102175</td>\n",
       "      <td>6.125386</td>\n",
       "      <td>1033.339925</td>\n",
       "      <td>1.611237e-10</td>\n",
       "      <td>1.933204e-12</td>\n",
       "      <td>2.843842e-14</td>\n",
       "      <td>2.027785</td>\n",
       "      <td>3.224470e-14</td>\n",
       "      <td>1.917850</td>\n",
       "      <td>0.047469</td>\n",
       "      <td>0.934793</td>\n",
       "      <td>3.211871e-14</td>\n",
       "      <td>1.867406</td>\n",
       "      <td>0.049310</td>\n",
       "      <td>0.666667</td>\n",
       "      <td>0.974149</td>\n",
       "      <td>317.541123</td>\n",
       "      <td>10.584725</td>\n",
       "      <td>0.000000</td>\n",
       "    </tr>\n",
       "    <tr>\n",
       "      <th>50%</th>\n",
       "      <td>185.939700</td>\n",
       "      <td>185.939700</td>\n",
       "      <td>9.559812</td>\n",
       "      <td>1712.585150</td>\n",
       "      <td>3.040690e-10</td>\n",
       "      <td>3.528937e-12</td>\n",
       "      <td>1.524306e-13</td>\n",
       "      <td>2.263703</td>\n",
       "      <td>1.830221e-13</td>\n",
       "      <td>2.183158</td>\n",
       "      <td>0.112786</td>\n",
       "      <td>1.888546</td>\n",
       "      <td>1.802256e-13</td>\n",
       "      <td>2.134784</td>\n",
       "      <td>0.131771</td>\n",
       "      <td>0.666667</td>\n",
       "      <td>1.929566</td>\n",
       "      <td>586.498080</td>\n",
       "      <td>16.736631</td>\n",
       "      <td>0.273666</td>\n",
       "    </tr>\n",
       "    <tr>\n",
       "      <th>75%</th>\n",
       "      <td>266.978625</td>\n",
       "      <td>266.978625</td>\n",
       "      <td>18.431345</td>\n",
       "      <td>3082.919050</td>\n",
       "      <td>7.469120e-10</td>\n",
       "      <td>7.838020e-12</td>\n",
       "      <td>7.083509e-13</td>\n",
       "      <td>2.483710</td>\n",
       "      <td>8.859359e-13</td>\n",
       "      <td>2.445840</td>\n",
       "      <td>0.248677</td>\n",
       "      <td>3.442299</td>\n",
       "      <td>8.749478e-13</td>\n",
       "      <td>2.384490</td>\n",
       "      <td>0.371141</td>\n",
       "      <td>0.666667</td>\n",
       "      <td>3.420921</td>\n",
       "      <td>1195.791075</td>\n",
       "      <td>35.496843</td>\n",
       "      <td>0.552566</td>\n",
       "    </tr>\n",
       "    <tr>\n",
       "      <th>max</th>\n",
       "      <td>359.990800</td>\n",
       "      <td>359.990800</td>\n",
       "      <td>884.642940</td>\n",
       "      <td>195054.750000</td>\n",
       "      <td>1.333140e-06</td>\n",
       "      <td>9.292083e-09</td>\n",
       "      <td>2.328326e-07</td>\n",
       "      <td>3.371371</td>\n",
       "      <td>1.737617e-07</td>\n",
       "      <td>3.444003</td>\n",
       "      <td>0.999999</td>\n",
       "      <td>239.436390</td>\n",
       "      <td>1.751540e-07</td>\n",
       "      <td>3.212312</td>\n",
       "      <td>5.448646</td>\n",
       "      <td>1.000000</td>\n",
       "      <td>244.335510</td>\n",
       "      <td>261898.020000</td>\n",
       "      <td>84340.760000</td>\n",
       "      <td>2.910003</td>\n",
       "    </tr>\n",
       "  </tbody>\n",
       "</table>\n",
       "</div>"
      ],
      "text/plain": [
       "          RA (deg)    DEC (deg)   Signif_Avg   Pivot_Energy      Flux1000  \\\n",
       "count  4810.000000  4810.000000  4810.000000    4810.000000  4.810000e+03   \n",
       "mean    182.355077   182.355077    18.811330    2652.431183  1.762063e-09   \n",
       "std     101.411838   101.411838    33.348128    4026.303113  2.249212e-08   \n",
       "min       0.312600     0.312600     2.229098      49.677998  3.740937e-13   \n",
       "25%      96.102175    96.102175     6.125386    1033.339925  1.611237e-10   \n",
       "50%     185.939700   185.939700     9.559812    1712.585150  3.040690e-10   \n",
       "75%     266.978625   266.978625    18.431345    3082.919050  7.469120e-10   \n",
       "max     359.990800   359.990800   884.642940  195054.750000  1.333140e-06   \n",
       "\n",
       "       Energy_Flux100  PL_Flux_Density     PL_Index  LP_Flux_Density  \\\n",
       "count    4.810000e+03     4.810000e+03  4810.000000     4.810000e+03   \n",
       "mean     1.527858e-11     5.005888e-11     2.254534     3.813039e-11   \n",
       "std      1.552055e-10     3.357141e-09     0.298521     2.505421e-09   \n",
       "min      3.707689e-13     6.224186e-17     1.058625     7.244539e-17   \n",
       "25%      1.933204e-12     2.843842e-14     2.027785     3.224470e-14   \n",
       "50%      3.528937e-12     1.524306e-13     2.263703     1.830221e-13   \n",
       "75%      7.838020e-12     7.083509e-13     2.483710     8.859359e-13   \n",
       "max      9.292083e-09     2.328326e-07     3.371371     1.737617e-07   \n",
       "\n",
       "          LP_Index      LP_beta   LP_SigCurv  PLEC_Flux_Density  PLEC_IndexS  \\\n",
       "count  4810.000000  4810.000000  4810.000000       4.810000e+03  4810.000000   \n",
       "mean      2.181060     0.187287     3.113043       3.837233e-11     2.120971   \n",
       "std       0.376522     0.221611     6.845041       2.525496e-09     0.368820   \n",
       "min      -0.048980    -0.116156     0.000000       7.593357e-17    -0.159668   \n",
       "25%       1.917850     0.047469     0.934793       3.211871e-14     1.867406   \n",
       "50%       2.183158     0.112786     1.888546       1.802256e-13     2.134784   \n",
       "75%       2.445840     0.248677     3.442299       8.749478e-13     2.384490   \n",
       "max       3.444003     0.999999   239.436390       1.751540e-07     3.212312   \n",
       "\n",
       "       PLEC_ExpfactorS  PLEC_Exp_Index  PLEC_SigCurv          Npred  \\\n",
       "count      4810.000000     4810.000000   4810.000000    4810.000000   \n",
       "mean          0.320614        0.665395      3.130517    1625.278195   \n",
       "std           0.527601        0.022582      6.926288    6277.673159   \n",
       "min          -0.143681        0.207654      0.000000       9.056292   \n",
       "25%           0.049310        0.666667      0.974149     317.541123   \n",
       "50%           0.131771        0.666667      1.929566     586.498080   \n",
       "75%           0.371141        0.666667      3.420921    1195.791075   \n",
       "max           5.448646        1.000000    244.335510  261898.020000   \n",
       "\n",
       "       Variability_Index  Frac_Variability  \n",
       "count        4810.000000       4810.000000  \n",
       "mean          191.752099          0.345808  \n",
       "std          1984.823787          0.374629  \n",
       "min             1.590456          0.000000  \n",
       "25%            10.584725          0.000000  \n",
       "50%            16.736631          0.273666  \n",
       "75%            35.496843          0.552566  \n",
       "max         84340.760000          2.910003  "
      ]
     },
     "execution_count": 17,
     "metadata": {},
     "output_type": "execute_result"
    }
   ],
   "source": [
    "# putting input variales to X\n",
    "X = GS[['RA (deg)','DEC (deg)','Signif_Avg','Pivot_Energy','Flux1000','Energy_Flux100','PL_Flux_Density','PL_Index',\n",
    "            'LP_Flux_Density','LP_Index','LP_beta','LP_SigCurv','PLEC_Flux_Density','PLEC_IndexS','PLEC_ExpfactorS',\n",
    "            'PLEC_Exp_Index','PLEC_SigCurv','Npred','Variability_Index','Frac_Variability' ]]\n",
    "X.describe()"
   ]
  },
  {
   "cell_type": "code",
   "execution_count": 18,
   "metadata": {
    "colab": {
     "base_uri": "https://localhost:8080/"
    },
    "executionInfo": {
     "elapsed": 36,
     "status": "ok",
     "timestamp": 1677508103801,
     "user": {
      "displayName": "Gaurav chauhan",
      "userId": "00578364747584923502"
     },
     "user_tz": -330
    },
    "id": "Pciq5btiJnpf",
    "outputId": "6d147997-c3ec-4e5f-959c-ecf147eb049c"
   },
   "outputs": [
    {
     "data": {
      "text/plain": [
       "array(['bcu', 'bll', 'fsrq', 'unk', 'spp', 'psr', 'agn', 'rdg', 'msp',\n",
       "       'glc', 'snr', 'gal', 'sbg', 'sfr', 'sey', 'clust', 'bin', 'hmb',\n",
       "       'nlsy1', 'lmb', 'nov', 'css', 'pwn', 'ssrq', 'gc'], dtype=object)"
      ]
     },
     "execution_count": 18,
     "metadata": {},
     "output_type": "execute_result"
    }
   ],
   "source": [
    "Y = GS['CLASS']\n",
    "Y.unique()"
   ]
  },
  {
   "cell_type": "code",
   "execution_count": 19,
   "metadata": {
    "executionInfo": {
     "elapsed": 30,
     "status": "ok",
     "timestamp": 1677508103802,
     "user": {
      "displayName": "Gaurav chauhan",
      "userId": "00578364747584923502"
     },
     "user_tz": -330
    },
    "id": "hiUxr7WKJnpg"
   },
   "outputs": [],
   "source": [
    "# Splitting the data into train and test\n",
    "X_train, X_test, y_train, y_test = train_test_split(X, Y, train_size=0.9, test_size=0.1, random_state=100)"
   ]
  },
  {
   "cell_type": "markdown",
   "metadata": {
    "id": "8x3oP12DUhy1"
   },
   "source": [
    "\n",
    "\n",
    "---\n",
    "## 4. Feature Scaling\n"
   ]
  },
  {
   "cell_type": "code",
   "execution_count": 20,
   "metadata": {
    "colab": {
     "base_uri": "https://localhost:8080/",
     "height": 287
    },
    "executionInfo": {
     "elapsed": 30,
     "status": "ok",
     "timestamp": 1677508103803,
     "user": {
      "displayName": "Gaurav chauhan",
      "userId": "00578364747584923502"
     },
     "user_tz": -330
    },
    "id": "6tP1sTpYJnph",
    "outputId": "fb17c63c-bd9e-46d1-fcc4-41b2bfbb081c"
   },
   "outputs": [
    {
     "data": {
      "text/html": [
       "<div>\n",
       "<style scoped>\n",
       "    .dataframe tbody tr th:only-of-type {\n",
       "        vertical-align: middle;\n",
       "    }\n",
       "\n",
       "    .dataframe tbody tr th {\n",
       "        vertical-align: top;\n",
       "    }\n",
       "\n",
       "    .dataframe thead th {\n",
       "        text-align: right;\n",
       "    }\n",
       "</style>\n",
       "<table border=\"1\" class=\"dataframe\">\n",
       "  <thead>\n",
       "    <tr style=\"text-align: right;\">\n",
       "      <th></th>\n",
       "      <th>RA (deg)</th>\n",
       "      <th>DEC (deg)</th>\n",
       "      <th>Signif_Avg</th>\n",
       "      <th>Pivot_Energy</th>\n",
       "      <th>Flux1000</th>\n",
       "      <th>Energy_Flux100</th>\n",
       "      <th>PL_Flux_Density</th>\n",
       "      <th>PL_Index</th>\n",
       "      <th>LP_Flux_Density</th>\n",
       "      <th>LP_Index</th>\n",
       "      <th>LP_beta</th>\n",
       "      <th>LP_SigCurv</th>\n",
       "      <th>PLEC_Flux_Density</th>\n",
       "      <th>PLEC_IndexS</th>\n",
       "      <th>PLEC_ExpfactorS</th>\n",
       "      <th>PLEC_Exp_Index</th>\n",
       "      <th>PLEC_SigCurv</th>\n",
       "      <th>Npred</th>\n",
       "      <th>Variability_Index</th>\n",
       "      <th>Frac_Variability</th>\n",
       "    </tr>\n",
       "  </thead>\n",
       "  <tbody>\n",
       "    <tr>\n",
       "      <th>0</th>\n",
       "      <td>-0.570733</td>\n",
       "      <td>-0.570733</td>\n",
       "      <td>-0.415835</td>\n",
       "      <td>-0.434848</td>\n",
       "      <td>-0.069486</td>\n",
       "      <td>-0.076751</td>\n",
       "      <td>-0.015558</td>\n",
       "      <td>1.538051</td>\n",
       "      <td>-0.015754</td>\n",
       "      <td>1.965922</td>\n",
       "      <td>0.492912</td>\n",
       "      <td>-0.085265</td>\n",
       "      <td>-0.015735</td>\n",
       "      <td>1.638250</td>\n",
       "      <td>0.450416</td>\n",
       "      <td>0.054052</td>\n",
       "      <td>-0.107052</td>\n",
       "      <td>-0.152713</td>\n",
       "      <td>-0.092753</td>\n",
       "      <td>-0.919634</td>\n",
       "    </tr>\n",
       "    <tr>\n",
       "      <th>1</th>\n",
       "      <td>-1.063332</td>\n",
       "      <td>-1.063332</td>\n",
       "      <td>0.418282</td>\n",
       "      <td>-0.438068</td>\n",
       "      <td>-0.038866</td>\n",
       "      <td>-0.010919</td>\n",
       "      <td>-0.015094</td>\n",
       "      <td>0.964902</td>\n",
       "      <td>-0.015162</td>\n",
       "      <td>0.944771</td>\n",
       "      <td>-0.675863</td>\n",
       "      <td>-0.202430</td>\n",
       "      <td>-0.015158</td>\n",
       "      <td>1.081470</td>\n",
       "      <td>-0.543128</td>\n",
       "      <td>0.054052</td>\n",
       "      <td>-0.249411</td>\n",
       "      <td>0.257959</td>\n",
       "      <td>-0.004839</td>\n",
       "      <td>0.430416</td>\n",
       "    </tr>\n",
       "    <tr>\n",
       "      <th>2</th>\n",
       "      <td>-1.536070</td>\n",
       "      <td>-1.536070</td>\n",
       "      <td>-0.373653</td>\n",
       "      <td>-0.310933</td>\n",
       "      <td>-0.070906</td>\n",
       "      <td>-0.085762</td>\n",
       "      <td>-0.015649</td>\n",
       "      <td>0.155493</td>\n",
       "      <td>-0.015941</td>\n",
       "      <td>0.376243</td>\n",
       "      <td>-1.082326</td>\n",
       "      <td>-0.316766</td>\n",
       "      <td>-0.015905</td>\n",
       "      <td>0.822484</td>\n",
       "      <td>0.639545</td>\n",
       "      <td>0.054052</td>\n",
       "      <td>-0.440622</td>\n",
       "      <td>-0.198104</td>\n",
       "      <td>-0.090423</td>\n",
       "      <td>-0.919634</td>\n",
       "    </tr>\n",
       "    <tr>\n",
       "      <th>3</th>\n",
       "      <td>0.464382</td>\n",
       "      <td>0.464382</td>\n",
       "      <td>-0.321229</td>\n",
       "      <td>-0.257451</td>\n",
       "      <td>-0.070159</td>\n",
       "      <td>-0.084784</td>\n",
       "      <td>-0.015654</td>\n",
       "      <td>-0.000033</td>\n",
       "      <td>-0.015942</td>\n",
       "      <td>0.094177</td>\n",
       "      <td>-0.585856</td>\n",
       "      <td>-0.354696</td>\n",
       "      <td>-0.015920</td>\n",
       "      <td>0.330362</td>\n",
       "      <td>-0.588698</td>\n",
       "      <td>0.054052</td>\n",
       "      <td>-0.417683</td>\n",
       "      <td>-0.193640</td>\n",
       "      <td>-0.078500</td>\n",
       "      <td>1.330491</td>\n",
       "    </tr>\n",
       "    <tr>\n",
       "      <th>4</th>\n",
       "      <td>-0.257720</td>\n",
       "      <td>-0.257720</td>\n",
       "      <td>-0.122886</td>\n",
       "      <td>2.641326</td>\n",
       "      <td>0.135701</td>\n",
       "      <td>0.252411</td>\n",
       "      <td>-0.015666</td>\n",
       "      <td>-0.287231</td>\n",
       "      <td>-0.015961</td>\n",
       "      <td>-0.049264</td>\n",
       "      <td>-0.908881</td>\n",
       "      <td>-0.359289</td>\n",
       "      <td>-0.015937</td>\n",
       "      <td>0.197107</td>\n",
       "      <td>-0.655555</td>\n",
       "      <td>0.054052</td>\n",
       "      <td>-0.334667</td>\n",
       "      <td>0.319076</td>\n",
       "      <td>-0.089688</td>\n",
       "      <td>-0.919634</td>\n",
       "    </tr>\n",
       "  </tbody>\n",
       "</table>\n",
       "</div>"
      ],
      "text/plain": [
       "   RA (deg)  DEC (deg)  Signif_Avg  Pivot_Energy  Flux1000  Energy_Flux100  \\\n",
       "0 -0.570733  -0.570733   -0.415835     -0.434848 -0.069486       -0.076751   \n",
       "1 -1.063332  -1.063332    0.418282     -0.438068 -0.038866       -0.010919   \n",
       "2 -1.536070  -1.536070   -0.373653     -0.310933 -0.070906       -0.085762   \n",
       "3  0.464382   0.464382   -0.321229     -0.257451 -0.070159       -0.084784   \n",
       "4 -0.257720  -0.257720   -0.122886      2.641326  0.135701        0.252411   \n",
       "\n",
       "   PL_Flux_Density  PL_Index  LP_Flux_Density  LP_Index   LP_beta  LP_SigCurv  \\\n",
       "0        -0.015558  1.538051        -0.015754  1.965922  0.492912   -0.085265   \n",
       "1        -0.015094  0.964902        -0.015162  0.944771 -0.675863   -0.202430   \n",
       "2        -0.015649  0.155493        -0.015941  0.376243 -1.082326   -0.316766   \n",
       "3        -0.015654 -0.000033        -0.015942  0.094177 -0.585856   -0.354696   \n",
       "4        -0.015666 -0.287231        -0.015961 -0.049264 -0.908881   -0.359289   \n",
       "\n",
       "   PLEC_Flux_Density  PLEC_IndexS  PLEC_ExpfactorS  PLEC_Exp_Index  \\\n",
       "0          -0.015735     1.638250         0.450416        0.054052   \n",
       "1          -0.015158     1.081470        -0.543128        0.054052   \n",
       "2          -0.015905     0.822484         0.639545        0.054052   \n",
       "3          -0.015920     0.330362        -0.588698        0.054052   \n",
       "4          -0.015937     0.197107        -0.655555        0.054052   \n",
       "\n",
       "   PLEC_SigCurv     Npred  Variability_Index  Frac_Variability  \n",
       "0     -0.107052 -0.152713          -0.092753         -0.919634  \n",
       "1     -0.249411  0.257959          -0.004839          0.430416  \n",
       "2     -0.440622 -0.198104          -0.090423         -0.919634  \n",
       "3     -0.417683 -0.193640          -0.078500          1.330491  \n",
       "4     -0.334667  0.319076          -0.089688         -0.919634  "
      ]
     },
     "execution_count": 20,
     "metadata": {},
     "output_type": "execute_result"
    }
   ],
   "source": [
    "scaler = StandardScaler()\n",
    "X_train = pd.DataFrame(scaler.fit_transform(X_train), columns=X_train.columns)\n",
    "X_test = pd.DataFrame(scaler.fit_transform(X_test), columns=X_test.columns)\n",
    "X_train.head()"
   ]
  },
  {
   "cell_type": "markdown",
   "metadata": {
    "id": "OXrZAsoGU93r"
   },
   "source": [
    "\n",
    "\n",
    "---\n",
    "\n",
    "## 5. Let's see the correlation matrix"
   ]
  },
  {
   "cell_type": "code",
   "execution_count": 21,
   "metadata": {
    "colab": {
     "base_uri": "https://localhost:8080/",
     "height": 679
    },
    "executionInfo": {
     "elapsed": 3112,
     "status": "ok",
     "timestamp": 1677508106889,
     "user": {
      "displayName": "Gaurav chauhan",
      "userId": "00578364747584923502"
     },
     "user_tz": -330
    },
    "id": "2nFPetmmJnpi",
    "outputId": "cd22ac92-0958-425b-efbf-def753311ed5"
   },
   "outputs": [
    {
     "data": {
      "image/png": "[encoded data removed]",
      "text/plain": [
       "<Figure size 1440x720 with 2 Axes>"
      ]
     },
     "metadata": {
      "needs_background": "light"
     },
     "output_type": "display_data"
    }
   ],
   "source": [
    "\n",
    "plt.figure(figsize = (20,10))        # Size of the figure\n",
    "sns.heatmap(GS.corr(),annot = True)\n",
    "plt.show()"
   ]
  },
  {
   "cell_type": "markdown",
   "metadata": {
    "id": "kacY2UGPVLHG"
   },
   "source": [
    "\n",
    "\n",
    "---\n",
    "\n",
    "## 6. Model building"
   ]
  },
  {
   "cell_type": "code",
   "execution_count": 22,
   "metadata": {
    "colab": {
     "base_uri": "https://localhost:8080/"
    },
    "executionInfo": {
     "elapsed": 1832,
     "status": "ok",
     "timestamp": 1677508108707,
     "user": {
      "displayName": "Gaurav chauhan",
      "userId": "00578364747584923502"
     },
     "user_tz": -330
    },
    "id": "gtq2nVErJnpi",
    "outputId": "cc631239-f233-4b2e-8479-39fa8bc77b44"
   },
   "outputs": [
    {
     "data": {
      "text/plain": [
       "LogisticRegression(max_iter=300)"
      ]
     },
     "execution_count": 22,
     "metadata": {},
     "output_type": "execute_result"
    }
   ],
   "source": [
    "\n",
    "model = LogisticRegression(max_iter=300)\n",
    "model.fit(X_train, y_train)"
   ]
  },
  {
   "cell_type": "code",
   "execution_count": 23,
   "metadata": {
    "colab": {
     "base_uri": "https://localhost:8080/"
    },
    "executionInfo": {
     "elapsed": 2861,
     "status": "ok",
     "timestamp": 1677508111561,
     "user": {
      "displayName": "Gaurav chauhan",
      "userId": "00578364747584923502"
     },
     "user_tz": -330
    },
    "id": "FK4w649JJnpk",
    "outputId": "2731a685-2bd0-4d57-fd7e-e8bfdc8f5fdc"
   },
   "outputs": [
    {
     "data": {
      "text/plain": [
       "LogisticRegression(max_iter=300)"
      ]
     },
     "execution_count": 23,
     "metadata": {},
     "output_type": "execute_result"
    }
   ],
   "source": [
    "model.fit(X_train, y_train)"
   ]
  },
  {
   "cell_type": "code",
   "execution_count": 24,
   "metadata": {
    "colab": {
     "base_uri": "https://localhost:8080/"
    },
    "executionInfo": {
     "elapsed": 71,
     "status": "ok",
     "timestamp": 1677508111562,
     "user": {
      "displayName": "Gaurav chauhan",
      "userId": "00578364747584923502"
     },
     "user_tz": -330
    },
    "id": "hgWrxhuZJnpl",
    "outputId": "b8f9406c-310c-41f5-d5c3-8297ffd07bc1",
    "scrolled": true
   },
   "outputs": [
    {
     "data": {
      "text/plain": [
       "array(['unk', 'fsrq', 'bcu', 'bcu', 'snr', 'fsrq', 'bcu', 'fsrq', 'bll',\n",
       "       'bcu'], dtype=object)"
      ]
     },
     "execution_count": 24,
     "metadata": {},
     "output_type": "execute_result"
    }
   ],
   "source": [
    "# Getting the predicted values on the train set\n",
    "y_train_pred = model.predict(X_train)\n",
    "y_train_pred[:10]"
   ]
  },
  {
   "cell_type": "markdown",
   "metadata": {
    "id": "Yb4mDccUVmRP"
   },
   "source": [
    "\n",
    "\n",
    "---\n",
    "\n",
    "## 7. Assessing the model"
   ]
  },
  {
   "cell_type": "code",
   "execution_count": 25,
   "metadata": {
    "colab": {
     "base_uri": "https://localhost:8080/"
    },
    "executionInfo": {
     "elapsed": 63,
     "status": "ok",
     "timestamp": 1677508111562,
     "user": {
      "displayName": "Gaurav chauhan",
      "userId": "00578364747584923502"
     },
     "user_tz": -330
    },
    "id": "2PBNRGm8Jnpm",
    "outputId": "8b4b80d4-7ffe-4b36-c0e1-c766348542c6"
   },
   "outputs": [
    {
     "data": {
      "text/plain": [
       "array([[1.28874980e-01, 2.96328966e-01, 5.39265652e-03, 5.63044583e-03,\n",
       "        4.92191145e-04, 7.82104478e-04, 7.73642720e-02, 2.83602375e-04,\n",
       "        2.74900114e-04, 8.68941010e-03, 3.67101792e-03, 2.95403816e-03,\n",
       "        1.04465930e-02, 1.60600478e-03, 1.30286260e-04, 4.89158428e-02,\n",
       "        1.48506716e-03, 3.13203004e-03, 3.38448474e-03, 4.14461288e-03,\n",
       "        2.92020369e-03, 8.26277527e-03, 7.09645059e-02, 1.00021011e-03,\n",
       "        3.12868799e-01],\n",
       "       [2.15869251e-03, 7.71984240e-02, 4.58434602e-04, 1.59826057e-01,\n",
       "        7.18473362e-04, 1.61815481e-03, 7.30772118e-01, 1.25964551e-04,\n",
       "        3.80700478e-05, 2.53611093e-04, 1.78914004e-03, 1.79163607e-03,\n",
       "        2.63643991e-04, 2.31587627e-03, 1.20825297e-04, 2.88481606e-04,\n",
       "        6.05931293e-04, 1.40385336e-02, 1.93322660e-03, 4.66218911e-04,\n",
       "        2.59215940e-04, 7.38255765e-04, 9.55896299e-04, 5.01408640e-04,\n",
       "        7.63709890e-04],\n",
       "       [6.56013416e-02, 3.72556006e-01, 2.49119120e-03, 3.43304429e-01,\n",
       "        6.37021677e-04, 5.26988463e-04, 1.18560786e-01, 1.91666038e-03,\n",
       "        5.26847707e-05, 1.63856810e-03, 1.72462510e-03, 4.78675546e-03,\n",
       "        1.32178032e-03, 2.40723016e-04, 1.55760616e-05, 1.47560990e-03,\n",
       "        2.03404867e-03, 2.20432234e-02, 1.17645512e-02, 5.06940298e-03,\n",
       "        1.30250139e-03, 3.29625352e-03, 6.42101162e-03, 6.14806441e-04,\n",
       "        3.06034545e-02],\n",
       "       [2.64462043e-02, 4.78078719e-01, 3.30951186e-05, 3.00833691e-01,\n",
       "        7.33409283e-05, 1.56028862e-03, 1.81233904e-01, 4.42301804e-05,\n",
       "        1.27733577e-05, 1.15819860e-04, 2.33226678e-04, 1.10690096e-04,\n",
       "        2.07431852e-04, 5.55290196e-04, 2.65220069e-04, 1.26311444e-05,\n",
       "        3.67168846e-04, 2.83744927e-03, 1.09115674e-03, 8.71456654e-04,\n",
       "        2.67222137e-05, 7.88198170e-05, 1.07091669e-03, 3.04927532e-04,\n",
       "        3.53482612e-03],\n",
       "       [4.34427050e-03, 6.43224976e-02, 3.15485738e-04, 1.02924053e-02,\n",
       "        3.82260201e-05, 1.47688095e-04, 1.12585249e-04, 1.03624543e-03,\n",
       "        1.69835132e-03, 1.88050417e-04, 2.73419752e-02, 8.12240938e-05,\n",
       "        6.30798813e-07, 1.42166924e-05, 7.30312763e-06, 3.60352311e-02,\n",
       "        1.26746304e-01, 4.52020547e-02, 7.56185168e-04, 4.24587769e-03,\n",
       "        1.59225933e-02, 2.70762096e-01, 2.31439197e-01, 5.43190754e-05,\n",
       "        1.58894985e-01]])"
      ]
     },
     "execution_count": 25,
     "metadata": {},
     "output_type": "execute_result"
    }
   ],
   "source": [
    "y_train_prob = model.predict_proba(X_train)\n",
    "y_train_prob[:5]"
   ]
  },
  {
   "cell_type": "code",
   "execution_count": 26,
   "metadata": {
    "colab": {
     "base_uri": "https://localhost:8080/",
     "height": 423
    },
    "executionInfo": {
     "elapsed": 57,
     "status": "ok",
     "timestamp": 1677508111562,
     "user": {
      "displayName": "Gaurav chauhan",
      "userId": "00578364747584923502"
     },
     "user_tz": -330
    },
    "id": "pjBb-wrGJnpm",
    "outputId": "16f2f126-b07d-40cd-909b-02f6ddb01d91",
    "scrolled": true
   },
   "outputs": [
    {
     "data": {
      "text/html": [
       "<div>\n",
       "<style scoped>\n",
       "    .dataframe tbody tr th:only-of-type {\n",
       "        vertical-align: middle;\n",
       "    }\n",
       "\n",
       "    .dataframe tbody tr th {\n",
       "        vertical-align: top;\n",
       "    }\n",
       "\n",
       "    .dataframe thead th {\n",
       "        text-align: right;\n",
       "    }\n",
       "</style>\n",
       "<table border=\"1\" class=\"dataframe\">\n",
       "  <thead>\n",
       "    <tr style=\"text-align: right;\">\n",
       "      <th></th>\n",
       "      <th>True</th>\n",
       "      <th>Predicted</th>\n",
       "      <th>SNo</th>\n",
       "    </tr>\n",
       "  </thead>\n",
       "  <tbody>\n",
       "    <tr>\n",
       "      <th>0</th>\n",
       "      <td>unk</td>\n",
       "      <td>unk</td>\n",
       "      <td>1928</td>\n",
       "    </tr>\n",
       "    <tr>\n",
       "      <th>1</th>\n",
       "      <td>fsrq</td>\n",
       "      <td>fsrq</td>\n",
       "      <td>1128</td>\n",
       "    </tr>\n",
       "    <tr>\n",
       "      <th>2</th>\n",
       "      <td>fsrq</td>\n",
       "      <td>bcu</td>\n",
       "      <td>421</td>\n",
       "    </tr>\n",
       "    <tr>\n",
       "      <th>3</th>\n",
       "      <td>bll</td>\n",
       "      <td>bcu</td>\n",
       "      <td>3833</td>\n",
       "    </tr>\n",
       "    <tr>\n",
       "      <th>4</th>\n",
       "      <td>sfr</td>\n",
       "      <td>snr</td>\n",
       "      <td>2463</td>\n",
       "    </tr>\n",
       "    <tr>\n",
       "      <th>...</th>\n",
       "      <td>...</td>\n",
       "      <td>...</td>\n",
       "      <td>...</td>\n",
       "    </tr>\n",
       "    <tr>\n",
       "      <th>4324</th>\n",
       "      <td>bcu</td>\n",
       "      <td>bcu</td>\n",
       "      <td>5786</td>\n",
       "    </tr>\n",
       "    <tr>\n",
       "      <th>4325</th>\n",
       "      <td>unk</td>\n",
       "      <td>unk</td>\n",
       "      <td>2379</td>\n",
       "    </tr>\n",
       "    <tr>\n",
       "      <th>4326</th>\n",
       "      <td>bcu</td>\n",
       "      <td>bcu</td>\n",
       "      <td>437</td>\n",
       "    </tr>\n",
       "    <tr>\n",
       "      <th>4327</th>\n",
       "      <td>bll</td>\n",
       "      <td>bll</td>\n",
       "      <td>102</td>\n",
       "    </tr>\n",
       "    <tr>\n",
       "      <th>4328</th>\n",
       "      <td>bll</td>\n",
       "      <td>bll</td>\n",
       "      <td>5445</td>\n",
       "    </tr>\n",
       "  </tbody>\n",
       "</table>\n",
       "<p>4329 rows × 3 columns</p>\n",
       "</div>"
      ],
      "text/plain": [
       "      True Predicted   SNo\n",
       "0      unk       unk  1928\n",
       "1     fsrq      fsrq  1128\n",
       "2     fsrq       bcu   421\n",
       "3      bll       bcu  3833\n",
       "4      sfr       snr  2463\n",
       "...    ...       ...   ...\n",
       "4324   bcu       bcu  5786\n",
       "4325   unk       unk  2379\n",
       "4326   bcu       bcu   437\n",
       "4327   bll       bll   102\n",
       "4328   bll       bll  5445\n",
       "\n",
       "[4329 rows x 3 columns]"
      ]
     },
     "execution_count": 26,
     "metadata": {},
     "output_type": "execute_result"
    }
   ],
   "source": [
    "# True and predicted values\n",
    "matrix_df = pd.DataFrame({'True':y_train.values, 'Predicted':y_train_pred})\n",
    "matrix_df['SNo'] = y_train.index\n",
    "matrix_df"
   ]
  },
  {
   "cell_type": "code",
   "execution_count": 27,
   "metadata": {
    "colab": {
     "base_uri": "https://localhost:8080/"
    },
    "executionInfo": {
     "elapsed": 55,
     "status": "ok",
     "timestamp": 1677508111563,
     "user": {
      "displayName": "Gaurav chauhan",
      "userId": "00578364747584923502"
     },
     "user_tz": -330
    },
    "id": "iERfsbVvJnpp",
    "outputId": "3c396b06-e64a-4440-dd19-e4254ed16769"
   },
   "outputs": [
    {
     "name": "stdout",
     "output_type": "stream",
     "text": [
      "[[  1 104   0  17   0   0  22   0   0   0   0   0   1   0   0   2   0   0\n",
      "    0   0   0   0   0   0  16]\n",
      " [  4 824   0 319   0   0 141   0   0   0   0   0  10   0   0   7   0   0\n",
      "    0   0   0   0   2   0  29]\n",
      " [  0   3   0   0   0   0   0   0   0   0   0   0   3   0   0   0   0   0\n",
      "    0   0   0   0   1   0   1]\n",
      " [  0 304   0 978   0   0  33   0   0   0   0   0   0   0   0   0   0   0\n",
      "    0   0   0   2   0   0   2]\n",
      " [  0   0   0   0   0   0   1   0   0   0   0   0   0   0   0   0   0   0\n",
      "    0   0   0   0   0   0   0]\n",
      " [  0   3   0   0   0   0   2   0   0   0   0   0   0   0   0   0   0   0\n",
      "    0   0   0   0   0   0   0]\n",
      " [  0 212   0  53   0   0 443   0   0   0   0   0   0   0   0   1   0   0\n",
      "    0   0   0   0   0   0   3]\n",
      " [  0   3   0   1   0   0   0   1   0   0   0   0   0   0   0   0   0   0\n",
      "    0   0   0   1   0   0   0]\n",
      " [  0   0   0   0   0   0   0   0   0   0   0   0   0   0   0   0   0   0\n",
      "    0   0   0   1   0   0   0]\n",
      " [  0  21   0   0   0   0   1   0   0   0   0   0   8   0   0   2   0   0\n",
      "    0   0   0   0   0   0   2]\n",
      " [  0   3   0   0   0   0   0   0   0   0   1   0   0   0   0   4   0   0\n",
      "    0   0   0   1   0   0   1]\n",
      " [  0   3   0   1   0   0   1   0   0   0   0   0   3   0   0   0   0   0\n",
      "    0   0   0   0   0   0   0]\n",
      " [  0  31   0   1   0   0   1   0   0   0   0   0 101   0   0   6   0   0\n",
      "    0   0   0   0   0   0   8]\n",
      " [  0   1   0   0   0   0   6   0   0   0   0   0   0   0   0   0   0   0\n",
      "    0   0   0   0   0   0   0]\n",
      " [  0   3   0   0   0   0   1   0   0   0   0   0   0   0   0   0   0   0\n",
      "    0   0   0   0   0   0   0]\n",
      " [  0  11   0   0   0   0   1   0   0   0   0   0  19   0   0  84   0   0\n",
      "    0   0   0   2   0   0  17]\n",
      " [  0   4   0   4   0   0   0   0   0   0   0   0   0   0   0   1   8   0\n",
      "    0   0   0   0   2   0   0]\n",
      " [  0  17   0  16   0   0   6   0   0   0   0   0   0   0   0   1   0   0\n",
      "    0   0   0   0   0   0   0]\n",
      " [  0   7   0   3   0   0   0   0   0   0   0   0   0   0   0   0   0   0\n",
      "    0   0   0   0   0   0   0]\n",
      " [  0   8   0   1   0   0   0   0   0   0   0   0   0   0   0   0   0   0\n",
      "    0   0   0   0   0   0   0]\n",
      " [  0   2   0   0   0   0   0   0   0   0   0   0   0   0   0   0   0   0\n",
      "    0   0   1   1   0   0   0]\n",
      " [  0   5   0  10   0   0   0   0   0   0   0   0   0   0   0   6   1   1\n",
      "    0   0   0   7   2   0   5]\n",
      " [  0  49   0   1   0   0   1   0   0   0   0   0   2   0   0   3   1   0\n",
      "    0   0   0   2   5   0  35]\n",
      " [  0   2   0   0   0   0   0   0   0   0   0   0   0   0   0   0   0   0\n",
      "    0   0   0   0   0   0   0]\n",
      " [  1 128   0   7   0   0   0   0   0   0   0   0   2   0   0   3   0   0\n",
      "    0   0   0   1   3   0  68]]\n"
     ]
    }
   ],
   "source": [
    "#Confusion matrix\n",
    "confusion = metrics.confusion_matrix(matrix_df['True'], matrix_df['Predicted'])\n",
    "print(confusion)"
   ]
  },
  {
   "cell_type": "code",
   "execution_count": 28,
   "metadata": {
    "colab": {
     "base_uri": "https://localhost:8080/"
    },
    "executionInfo": {
     "elapsed": 48,
     "status": "ok",
     "timestamp": 1677508111563,
     "user": {
      "displayName": "Gaurav chauhan",
      "userId": "00578364747584923502"
     },
     "user_tz": -330
    },
    "id": "yBWSn9tVJnpr",
    "outputId": "c7c6e5b1-9d7c-4db4-bfc4-1fc0f7a2f58c"
   },
   "outputs": [
    {
     "name": "stdout",
     "output_type": "stream",
     "text": [
      "              precision    recall  f1-score   support\n",
      "\n",
      "         agn       0.17      0.01      0.01       163\n",
      "         bcu       0.47      0.62      0.53      1336\n",
      "         bin       0.00      0.00      0.00         8\n",
      "         bll       0.69      0.74      0.72      1319\n",
      "       clust       0.00      0.00      0.00         1\n",
      "         css       0.00      0.00      0.00         5\n",
      "        fsrq       0.67      0.62      0.65       712\n",
      "         gal       1.00      0.17      0.29         6\n",
      "          gc       0.00      0.00      0.00         1\n",
      "         glc       0.00      0.00      0.00        34\n",
      "         hmb       1.00      0.10      0.18        10\n",
      "         lmb       0.00      0.00      0.00         8\n",
      "         msp       0.68      0.68      0.68       148\n",
      "       nlsy1       0.00      0.00      0.00         7\n",
      "         nov       0.00      0.00      0.00         4\n",
      "         psr       0.70      0.63      0.66       134\n",
      "         pwn       0.80      0.42      0.55        19\n",
      "         rdg       0.00      0.00      0.00        40\n",
      "         sbg       0.00      0.00      0.00        10\n",
      "         sey       0.00      0.00      0.00         9\n",
      "         sfr       1.00      0.25      0.40         4\n",
      "         snr       0.39      0.19      0.25        37\n",
      "         spp       0.33      0.05      0.09        99\n",
      "        ssrq       0.00      0.00      0.00         2\n",
      "         unk       0.36      0.32      0.34       213\n",
      "\n",
      "    accuracy                           0.58      4329\n",
      "   macro avg       0.33      0.19      0.21      4329\n",
      "weighted avg       0.56      0.58      0.56      4329\n",
      "\n"
     ]
    },
    {
     "name": "stderr",
     "output_type": "stream",
     "text": [
      "C:\\ProgramData\\Anaconda3\\lib\\site-packages\\sklearn\\metrics\\_classification.py:1248: UndefinedMetricWarning: Precision and F-score are ill-defined and being set to 0.0 in labels with no predicted samples. Use `zero_division` parameter to control this behavior.\n",
      "  _warn_prf(average, modifier, msg_start, len(result))\n",
      "C:\\ProgramData\\Anaconda3\\lib\\site-packages\\sklearn\\metrics\\_classification.py:1248: UndefinedMetricWarning: Precision and F-score are ill-defined and being set to 0.0 in labels with no predicted samples. Use `zero_division` parameter to control this behavior.\n",
      "  _warn_prf(average, modifier, msg_start, len(result))\n",
      "C:\\ProgramData\\Anaconda3\\lib\\site-packages\\sklearn\\metrics\\_classification.py:1248: UndefinedMetricWarning: Precision and F-score are ill-defined and being set to 0.0 in labels with no predicted samples. Use `zero_division` parameter to control this behavior.\n",
      "  _warn_prf(average, modifier, msg_start, len(result))\n"
     ]
    }
   ],
   "source": [
    "#printing the classification report\n",
    "print(metrics.classification_report(y_train, y_train_pred))"
   ]
  },
  {
   "cell_type": "code",
   "execution_count": 29,
   "metadata": {
    "colab": {
     "base_uri": "https://localhost:8080/"
    },
    "executionInfo": {
     "elapsed": 42,
     "status": "ok",
     "timestamp": 1677508111563,
     "user": {
      "displayName": "Gaurav chauhan",
      "userId": "00578364747584923502"
     },
     "user_tz": -330
    },
    "id": "42BXu2bPJnps",
    "outputId": "908cd2cd-fd2d-4061-ab3e-e24f634341c1"
   },
   "outputs": [
    {
     "name": "stdout",
     "output_type": "stream",
     "text": [
      "0.5825825825825826\n"
     ]
    }
   ],
   "source": [
    "# Let's check the overall accuracy.\n",
    "print(metrics.accuracy_score(y_train, y_train_pred))"
   ]
  },
  {
   "cell_type": "markdown",
   "metadata": {
    "id": "GT7iZn1kWMfL"
   },
   "source": [
    "*As you can see our model has an accuracy of 58%*\n",
    "\n",
    "\n",
    "---\n",
    "\n",
    "## 8. Making predictions on the test set"
   ]
  },
  {
   "cell_type": "code",
   "execution_count": 30,
   "metadata": {
    "colab": {
     "base_uri": "https://localhost:8080/",
     "height": 287
    },
    "executionInfo": {
     "elapsed": 39,
     "status": "ok",
     "timestamp": 1677508111564,
     "user": {
      "displayName": "Gaurav chauhan",
      "userId": "00578364747584923502"
     },
     "user_tz": -330
    },
    "id": "b2aIkn55Jnpt",
    "outputId": "15288e6c-b2fc-4722-da9c-0e6c1bc50f6d"
   },
   "outputs": [
    {
     "data": {
      "text/html": [
       "<div>\n",
       "<style scoped>\n",
       "    .dataframe tbody tr th:only-of-type {\n",
       "        vertical-align: middle;\n",
       "    }\n",
       "\n",
       "    .dataframe tbody tr th {\n",
       "        vertical-align: top;\n",
       "    }\n",
       "\n",
       "    .dataframe thead th {\n",
       "        text-align: right;\n",
       "    }\n",
       "</style>\n",
       "<table border=\"1\" class=\"dataframe\">\n",
       "  <thead>\n",
       "    <tr style=\"text-align: right;\">\n",
       "      <th></th>\n",
       "      <th>RA (deg)</th>\n",
       "      <th>DEC (deg)</th>\n",
       "      <th>Signif_Avg</th>\n",
       "      <th>Pivot_Energy</th>\n",
       "      <th>Flux1000</th>\n",
       "      <th>Energy_Flux100</th>\n",
       "      <th>PL_Flux_Density</th>\n",
       "      <th>PL_Index</th>\n",
       "      <th>LP_Flux_Density</th>\n",
       "      <th>LP_Index</th>\n",
       "      <th>LP_beta</th>\n",
       "      <th>LP_SigCurv</th>\n",
       "      <th>PLEC_Flux_Density</th>\n",
       "      <th>PLEC_IndexS</th>\n",
       "      <th>PLEC_ExpfactorS</th>\n",
       "      <th>PLEC_Exp_Index</th>\n",
       "      <th>PLEC_SigCurv</th>\n",
       "      <th>Npred</th>\n",
       "      <th>Variability_Index</th>\n",
       "      <th>Frac_Variability</th>\n",
       "    </tr>\n",
       "  </thead>\n",
       "  <tbody>\n",
       "    <tr>\n",
       "      <th>0</th>\n",
       "      <td>-1.710862</td>\n",
       "      <td>-1.710862</td>\n",
       "      <td>-0.409208</td>\n",
       "      <td>0.319550</td>\n",
       "      <td>-0.242647</td>\n",
       "      <td>-0.283676</td>\n",
       "      <td>-0.285043</td>\n",
       "      <td>-0.746813</td>\n",
       "      <td>-0.282818</td>\n",
       "      <td>-0.631044</td>\n",
       "      <td>-0.027647</td>\n",
       "      <td>-0.313467</td>\n",
       "      <td>-0.285382</td>\n",
       "      <td>-0.625180</td>\n",
       "      <td>-0.336277</td>\n",
       "      <td>0.073835</td>\n",
       "      <td>-0.386274</td>\n",
       "      <td>-0.352231</td>\n",
       "      <td>-0.160966</td>\n",
       "      <td>-0.186350</td>\n",
       "    </tr>\n",
       "    <tr>\n",
       "      <th>1</th>\n",
       "      <td>1.046791</td>\n",
       "      <td>1.046791</td>\n",
       "      <td>-0.351492</td>\n",
       "      <td>-0.483898</td>\n",
       "      <td>-0.195925</td>\n",
       "      <td>-0.197928</td>\n",
       "      <td>-0.214998</td>\n",
       "      <td>1.246638</td>\n",
       "      <td>-0.200268</td>\n",
       "      <td>1.772410</td>\n",
       "      <td>0.838241</td>\n",
       "      <td>0.191379</td>\n",
       "      <td>-0.200123</td>\n",
       "      <td>1.526625</td>\n",
       "      <td>0.774721</td>\n",
       "      <td>0.073835</td>\n",
       "      <td>0.055805</td>\n",
       "      <td>-0.177968</td>\n",
       "      <td>-0.080191</td>\n",
       "      <td>1.635442</td>\n",
       "    </tr>\n",
       "    <tr>\n",
       "      <th>2</th>\n",
       "      <td>-0.271401</td>\n",
       "      <td>-0.271401</td>\n",
       "      <td>-0.061306</td>\n",
       "      <td>-0.009471</td>\n",
       "      <td>-0.189197</td>\n",
       "      <td>-0.205878</td>\n",
       "      <td>-0.274663</td>\n",
       "      <td>-0.406430</td>\n",
       "      <td>-0.275430</td>\n",
       "      <td>-0.049432</td>\n",
       "      <td>-1.006547</td>\n",
       "      <td>-0.344988</td>\n",
       "      <td>-0.276715</td>\n",
       "      <td>0.033265</td>\n",
       "      <td>-0.647847</td>\n",
       "      <td>0.073835</td>\n",
       "      <td>-0.678316</td>\n",
       "      <td>-0.201769</td>\n",
       "      <td>-0.144487</td>\n",
       "      <td>-0.026748</td>\n",
       "    </tr>\n",
       "    <tr>\n",
       "      <th>3</th>\n",
       "      <td>1.156032</td>\n",
       "      <td>1.156032</td>\n",
       "      <td>5.446181</td>\n",
       "      <td>-0.276063</td>\n",
       "      <td>1.697262</td>\n",
       "      <td>2.591379</td>\n",
       "      <td>0.258083</td>\n",
       "      <td>-1.504647</td>\n",
       "      <td>0.182631</td>\n",
       "      <td>-1.111385</td>\n",
       "      <td>-0.684526</td>\n",
       "      <td>0.208078</td>\n",
       "      <td>0.188071</td>\n",
       "      <td>-0.959591</td>\n",
       "      <td>-0.616565</td>\n",
       "      <td>0.073835</td>\n",
       "      <td>0.173668</td>\n",
       "      <td>2.829953</td>\n",
       "      <td>1.615038</td>\n",
       "      <td>0.343816</td>\n",
       "    </tr>\n",
       "    <tr>\n",
       "      <th>4</th>\n",
       "      <td>0.558330</td>\n",
       "      <td>0.558330</td>\n",
       "      <td>-0.313056</td>\n",
       "      <td>0.106106</td>\n",
       "      <td>-0.195516</td>\n",
       "      <td>-0.215643</td>\n",
       "      <td>-0.278356</td>\n",
       "      <td>-0.493885</td>\n",
       "      <td>-0.277232</td>\n",
       "      <td>-0.296797</td>\n",
       "      <td>-0.580691</td>\n",
       "      <td>-0.481729</td>\n",
       "      <td>-0.279408</td>\n",
       "      <td>-0.245763</td>\n",
       "      <td>-0.511403</td>\n",
       "      <td>0.073835</td>\n",
       "      <td>-0.441831</td>\n",
       "      <td>-0.281045</td>\n",
       "      <td>-0.153554</td>\n",
       "      <td>0.095068</td>\n",
       "    </tr>\n",
       "  </tbody>\n",
       "</table>\n",
       "</div>"
      ],
      "text/plain": [
       "   RA (deg)  DEC (deg)  Signif_Avg  Pivot_Energy  Flux1000  Energy_Flux100  \\\n",
       "0 -1.710862  -1.710862   -0.409208      0.319550 -0.242647       -0.283676   \n",
       "1  1.046791   1.046791   -0.351492     -0.483898 -0.195925       -0.197928   \n",
       "2 -0.271401  -0.271401   -0.061306     -0.009471 -0.189197       -0.205878   \n",
       "3  1.156032   1.156032    5.446181     -0.276063  1.697262        2.591379   \n",
       "4  0.558330   0.558330   -0.313056      0.106106 -0.195516       -0.215643   \n",
       "\n",
       "   PL_Flux_Density  PL_Index  LP_Flux_Density  LP_Index   LP_beta  LP_SigCurv  \\\n",
       "0        -0.285043 -0.746813        -0.282818 -0.631044 -0.027647   -0.313467   \n",
       "1        -0.214998  1.246638        -0.200268  1.772410  0.838241    0.191379   \n",
       "2        -0.274663 -0.406430        -0.275430 -0.049432 -1.006547   -0.344988   \n",
       "3         0.258083 -1.504647         0.182631 -1.111385 -0.684526    0.208078   \n",
       "4        -0.278356 -0.493885        -0.277232 -0.296797 -0.580691   -0.481729   \n",
       "\n",
       "   PLEC_Flux_Density  PLEC_IndexS  PLEC_ExpfactorS  PLEC_Exp_Index  \\\n",
       "0          -0.285382    -0.625180        -0.336277        0.073835   \n",
       "1          -0.200123     1.526625         0.774721        0.073835   \n",
       "2          -0.276715     0.033265        -0.647847        0.073835   \n",
       "3           0.188071    -0.959591        -0.616565        0.073835   \n",
       "4          -0.279408    -0.245763        -0.511403        0.073835   \n",
       "\n",
       "   PLEC_SigCurv     Npred  Variability_Index  Frac_Variability  \n",
       "0     -0.386274 -0.352231          -0.160966         -0.186350  \n",
       "1      0.055805 -0.177968          -0.080191          1.635442  \n",
       "2     -0.678316 -0.201769          -0.144487         -0.026748  \n",
       "3      0.173668  2.829953           1.615038          0.343816  \n",
       "4     -0.441831 -0.281045          -0.153554          0.095068  "
      ]
     },
     "execution_count": 30,
     "metadata": {},
     "output_type": "execute_result"
    }
   ],
   "source": [
    "\n",
    "X_test.head()"
   ]
  },
  {
   "cell_type": "code",
   "execution_count": 31,
   "metadata": {
    "colab": {
     "base_uri": "https://localhost:8080/"
    },
    "executionInfo": {
     "elapsed": 38,
     "status": "ok",
     "timestamp": 1677508111564,
     "user": {
      "displayName": "Gaurav chauhan",
      "userId": "00578364747584923502"
     },
     "user_tz": -330
    },
    "id": "R6Ez9ckWJnpu",
    "outputId": "bc87d351-fe97-4485-b551-a29acd9b65e1"
   },
   "outputs": [
    {
     "data": {
      "text/plain": [
       "array(['bcu', 'bcu', 'bll', 'bll', 'bll', 'bll', 'bll', 'msp', 'psr',\n",
       "       'bcu'], dtype=object)"
      ]
     },
     "execution_count": 31,
     "metadata": {},
     "output_type": "execute_result"
    }
   ],
   "source": [
    "y_test_pred = model.predict(X_test)\n",
    "y_test_pred[:10]"
   ]
  },
  {
   "cell_type": "code",
   "execution_count": 32,
   "metadata": {
    "colab": {
     "base_uri": "https://localhost:8080/",
     "height": 206
    },
    "executionInfo": {
     "elapsed": 35,
     "status": "ok",
     "timestamp": 1677508111564,
     "user": {
      "displayName": "Gaurav chauhan",
      "userId": "00578364747584923502"
     },
     "user_tz": -330
    },
    "id": "BZZxccplJnpv",
    "outputId": "b7309622-08b2-4571-896a-a51963c52f19"
   },
   "outputs": [
    {
     "data": {
      "text/html": [
       "<div>\n",
       "<style scoped>\n",
       "    .dataframe tbody tr th:only-of-type {\n",
       "        vertical-align: middle;\n",
       "    }\n",
       "\n",
       "    .dataframe tbody tr th {\n",
       "        vertical-align: top;\n",
       "    }\n",
       "\n",
       "    .dataframe thead th {\n",
       "        text-align: right;\n",
       "    }\n",
       "</style>\n",
       "<table border=\"1\" class=\"dataframe\">\n",
       "  <thead>\n",
       "    <tr style=\"text-align: right;\">\n",
       "      <th></th>\n",
       "      <th>0</th>\n",
       "    </tr>\n",
       "  </thead>\n",
       "  <tbody>\n",
       "    <tr>\n",
       "      <th>0</th>\n",
       "      <td>bcu</td>\n",
       "    </tr>\n",
       "    <tr>\n",
       "      <th>1</th>\n",
       "      <td>bcu</td>\n",
       "    </tr>\n",
       "    <tr>\n",
       "      <th>2</th>\n",
       "      <td>bll</td>\n",
       "    </tr>\n",
       "    <tr>\n",
       "      <th>3</th>\n",
       "      <td>bll</td>\n",
       "    </tr>\n",
       "    <tr>\n",
       "      <th>4</th>\n",
       "      <td>bll</td>\n",
       "    </tr>\n",
       "  </tbody>\n",
       "</table>\n",
       "</div>"
      ],
      "text/plain": [
       "     0\n",
       "0  bcu\n",
       "1  bcu\n",
       "2  bll\n",
       "3  bll\n",
       "4  bll"
      ]
     },
     "execution_count": 32,
     "metadata": {},
     "output_type": "execute_result"
    }
   ],
   "source": [
    "# Converting y_pred to a dataframe which is an array\n",
    "y_pred_1 = pd.DataFrame(y_test_pred)\n",
    "y_pred_1.head()"
   ]
  },
  {
   "cell_type": "code",
   "execution_count": 33,
   "metadata": {
    "colab": {
     "base_uri": "https://localhost:8080/",
     "height": 206
    },
    "executionInfo": {
     "elapsed": 35,
     "status": "ok",
     "timestamp": 1677508111565,
     "user": {
      "displayName": "Gaurav chauhan",
      "userId": "00578364747584923502"
     },
     "user_tz": -330
    },
    "id": "T6crFXeaJnpw",
    "outputId": "daf5f4f9-322b-439e-a2bd-d8a46396e87e"
   },
   "outputs": [
    {
     "data": {
      "text/html": [
       "<div>\n",
       "<style scoped>\n",
       "    .dataframe tbody tr th:only-of-type {\n",
       "        vertical-align: middle;\n",
       "    }\n",
       "\n",
       "    .dataframe tbody tr th {\n",
       "        vertical-align: top;\n",
       "    }\n",
       "\n",
       "    .dataframe thead th {\n",
       "        text-align: right;\n",
       "    }\n",
       "</style>\n",
       "<table border=\"1\" class=\"dataframe\">\n",
       "  <thead>\n",
       "    <tr style=\"text-align: right;\">\n",
       "      <th></th>\n",
       "      <th>CLASS</th>\n",
       "    </tr>\n",
       "  </thead>\n",
       "  <tbody>\n",
       "    <tr>\n",
       "      <th>265</th>\n",
       "      <td>bcu</td>\n",
       "    </tr>\n",
       "    <tr>\n",
       "      <th>5523</th>\n",
       "      <td>bcu</td>\n",
       "    </tr>\n",
       "    <tr>\n",
       "      <th>2506</th>\n",
       "      <td>bcu</td>\n",
       "    </tr>\n",
       "    <tr>\n",
       "      <th>5722</th>\n",
       "      <td>bll</td>\n",
       "    </tr>\n",
       "    <tr>\n",
       "      <th>4052</th>\n",
       "      <td>bcu</td>\n",
       "    </tr>\n",
       "  </tbody>\n",
       "</table>\n",
       "</div>"
      ],
      "text/plain": [
       "     CLASS\n",
       "265    bcu\n",
       "5523   bcu\n",
       "2506   bcu\n",
       "5722   bll\n",
       "4052   bcu"
      ]
     },
     "execution_count": 33,
     "metadata": {},
     "output_type": "execute_result"
    }
   ],
   "source": [
    "# Converting y_test to dataframe\n",
    "y_test_df = pd.DataFrame(y_test)\n",
    "y_test_df.head()"
   ]
  },
  {
   "cell_type": "code",
   "execution_count": 34,
   "metadata": {
    "colab": {
     "base_uri": "https://localhost:8080/",
     "height": 206
    },
    "executionInfo": {
     "elapsed": 34,
     "status": "ok",
     "timestamp": 1677508111565,
     "user": {
      "displayName": "Gaurav chauhan",
      "userId": "00578364747584923502"
     },
     "user_tz": -330
    },
    "id": "eLZdF77pJnpw",
    "outputId": "a0b0745d-4dda-4bb4-d4bd-5db1443b04c8"
   },
   "outputs": [
    {
     "data": {
      "text/html": [
       "<div>\n",
       "<style scoped>\n",
       "    .dataframe tbody tr th:only-of-type {\n",
       "        vertical-align: middle;\n",
       "    }\n",
       "\n",
       "    .dataframe tbody tr th {\n",
       "        vertical-align: top;\n",
       "    }\n",
       "\n",
       "    .dataframe thead th {\n",
       "        text-align: right;\n",
       "    }\n",
       "</style>\n",
       "<table border=\"1\" class=\"dataframe\">\n",
       "  <thead>\n",
       "    <tr style=\"text-align: right;\">\n",
       "      <th></th>\n",
       "      <th>CLASS</th>\n",
       "      <th>0</th>\n",
       "    </tr>\n",
       "  </thead>\n",
       "  <tbody>\n",
       "    <tr>\n",
       "      <th>0</th>\n",
       "      <td>bcu</td>\n",
       "      <td>bcu</td>\n",
       "    </tr>\n",
       "    <tr>\n",
       "      <th>1</th>\n",
       "      <td>bcu</td>\n",
       "      <td>bcu</td>\n",
       "    </tr>\n",
       "    <tr>\n",
       "      <th>2</th>\n",
       "      <td>bcu</td>\n",
       "      <td>bll</td>\n",
       "    </tr>\n",
       "    <tr>\n",
       "      <th>3</th>\n",
       "      <td>bll</td>\n",
       "      <td>bll</td>\n",
       "    </tr>\n",
       "    <tr>\n",
       "      <th>4</th>\n",
       "      <td>bcu</td>\n",
       "      <td>bll</td>\n",
       "    </tr>\n",
       "  </tbody>\n",
       "</table>\n",
       "</div>"
      ],
      "text/plain": [
       "  CLASS    0\n",
       "0   bcu  bcu\n",
       "1   bcu  bcu\n",
       "2   bcu  bll\n",
       "3   bll  bll\n",
       "4   bcu  bll"
      ]
     },
     "execution_count": 34,
     "metadata": {},
     "output_type": "execute_result"
    }
   ],
   "source": [
    "# Removing index for both dataframes to append them side by side \n",
    "y_pred_1.reset_index(drop=True, inplace=True)\n",
    "y_test_df.reset_index(drop=True, inplace=True)\n",
    "\n",
    "# Appending y_test_df and y_pred_1\n",
    "y_pred_final = pd.concat([y_test_df, y_pred_1],axis=1)\n",
    "\n",
    "y_pred_final.head()"
   ]
  },
  {
   "cell_type": "code",
   "execution_count": 35,
   "metadata": {
    "colab": {
     "base_uri": "https://localhost:8080/",
     "height": 423
    },
    "executionInfo": {
     "elapsed": 33,
     "status": "ok",
     "timestamp": 1677508111565,
     "user": {
      "displayName": "Gaurav chauhan",
      "userId": "00578364747584923502"
     },
     "user_tz": -330
    },
    "id": "Xod_l84BJnpx",
    "outputId": "957ed9f7-2318-4b84-9609-8fe71fdc431b"
   },
   "outputs": [
    {
     "data": {
      "text/html": [
       "<div>\n",
       "<style scoped>\n",
       "    .dataframe tbody tr th:only-of-type {\n",
       "        vertical-align: middle;\n",
       "    }\n",
       "\n",
       "    .dataframe tbody tr th {\n",
       "        vertical-align: top;\n",
       "    }\n",
       "\n",
       "    .dataframe thead th {\n",
       "        text-align: right;\n",
       "    }\n",
       "</style>\n",
       "<table border=\"1\" class=\"dataframe\">\n",
       "  <thead>\n",
       "    <tr style=\"text-align: right;\">\n",
       "      <th></th>\n",
       "      <th>True</th>\n",
       "      <th>Predicted</th>\n",
       "    </tr>\n",
       "  </thead>\n",
       "  <tbody>\n",
       "    <tr>\n",
       "      <th>0</th>\n",
       "      <td>bcu</td>\n",
       "      <td>bcu</td>\n",
       "    </tr>\n",
       "    <tr>\n",
       "      <th>1</th>\n",
       "      <td>bcu</td>\n",
       "      <td>bcu</td>\n",
       "    </tr>\n",
       "    <tr>\n",
       "      <th>2</th>\n",
       "      <td>bcu</td>\n",
       "      <td>bll</td>\n",
       "    </tr>\n",
       "    <tr>\n",
       "      <th>3</th>\n",
       "      <td>bll</td>\n",
       "      <td>bll</td>\n",
       "    </tr>\n",
       "    <tr>\n",
       "      <th>4</th>\n",
       "      <td>bcu</td>\n",
       "      <td>bll</td>\n",
       "    </tr>\n",
       "    <tr>\n",
       "      <th>...</th>\n",
       "      <td>...</td>\n",
       "      <td>...</td>\n",
       "    </tr>\n",
       "    <tr>\n",
       "      <th>476</th>\n",
       "      <td>bll</td>\n",
       "      <td>bll</td>\n",
       "    </tr>\n",
       "    <tr>\n",
       "      <th>477</th>\n",
       "      <td>unk</td>\n",
       "      <td>bcu</td>\n",
       "    </tr>\n",
       "    <tr>\n",
       "      <th>478</th>\n",
       "      <td>bcu</td>\n",
       "      <td>bcu</td>\n",
       "    </tr>\n",
       "    <tr>\n",
       "      <th>479</th>\n",
       "      <td>bcu</td>\n",
       "      <td>bcu</td>\n",
       "    </tr>\n",
       "    <tr>\n",
       "      <th>480</th>\n",
       "      <td>snr</td>\n",
       "      <td>snr</td>\n",
       "    </tr>\n",
       "  </tbody>\n",
       "</table>\n",
       "<p>481 rows × 2 columns</p>\n",
       "</div>"
      ],
      "text/plain": [
       "    True Predicted\n",
       "0    bcu       bcu\n",
       "1    bcu       bcu\n",
       "2    bcu       bll\n",
       "3    bll       bll\n",
       "4    bcu       bll\n",
       "..   ...       ...\n",
       "476  bll       bll\n",
       "477  unk       bcu\n",
       "478  bcu       bcu\n",
       "479  bcu       bcu\n",
       "480  snr       snr\n",
       "\n",
       "[481 rows x 2 columns]"
      ]
     },
     "execution_count": 35,
     "metadata": {},
     "output_type": "execute_result"
    }
   ],
   "source": [
    "y_pred_final= y_pred_final.rename(columns={ 0 : 'Predicted','CLASS':'True'})\n",
    "y_pred_final"
   ]
  },
  {
   "cell_type": "code",
   "execution_count": 36,
   "metadata": {
    "colab": {
     "base_uri": "https://localhost:8080/"
    },
    "executionInfo": {
     "elapsed": 33,
     "status": "ok",
     "timestamp": 1677508111566,
     "user": {
      "displayName": "Gaurav chauhan",
      "userId": "00578364747584923502"
     },
     "user_tz": -330
    },
    "id": "XwkrlwNOJnpx",
    "outputId": "d7e6fdd2-2ef6-4d88-e8bd-76642f1023f1"
   },
   "outputs": [
    {
     "data": {
      "text/plain": [
       "0.5758835758835759"
      ]
     },
     "execution_count": 36,
     "metadata": {},
     "output_type": "execute_result"
    }
   ],
   "source": [
    "#checking the overall accuracy\n",
    "metrics.accuracy_score(y_test_df,y_pred_1)"
   ]
  },
  {
   "cell_type": "code",
   "execution_count": 37,
   "metadata": {
    "colab": {
     "base_uri": "https://localhost:8080/"
    },
    "executionInfo": {
     "elapsed": 30,
     "status": "ok",
     "timestamp": 1677508111566,
     "user": {
      "displayName": "Gaurav chauhan",
      "userId": "00578364747584923502"
     },
     "user_tz": -330
    },
    "id": "PSPISIcQJnpy",
    "outputId": "bb76641a-c594-423e-f90a-ed88e1d0b37c"
   },
   "outputs": [
    {
     "data": {
      "text/plain": [
       "array([[ 0, 14,  0,  2,  3,  0,  0,  0,  0,  0,  0,  0,  0,  0,  0,  0,\n",
       "         0,  1],\n",
       "       [ 0, 97,  0, 39, 16,  0,  0,  4,  0,  0,  0,  0,  0,  0,  0,  0,\n",
       "         0,  1],\n",
       "       [ 0,  1,  0,  0,  0,  0,  0,  0,  0,  1,  0,  0,  0,  0,  0,  0,\n",
       "         0,  0],\n",
       "       [ 0, 32,  0, 96,  5,  0,  0,  0,  0,  0,  1,  0,  0,  0,  0,  1,\n",
       "         0,  2],\n",
       "       [ 1, 20,  0,  2, 55,  0,  0,  1,  0,  2,  1,  0,  0,  0,  0,  0,\n",
       "         0,  0],\n",
       "       [ 0,  1,  0,  0,  0,  0,  0,  2,  0,  0,  0,  0,  0,  0,  0,  0,\n",
       "         0,  0],\n",
       "       [ 0,  0,  0,  0,  0,  0,  0,  0,  0,  1,  0,  0,  0,  0,  0,  0,\n",
       "         0,  0],\n",
       "       [ 0,  2,  0,  0,  0,  0,  0,  9,  0,  1,  0,  0,  0,  0,  0,  0,\n",
       "         0,  1],\n",
       "       [ 0,  0,  0,  0,  1,  0,  0,  0,  0,  0,  0,  0,  0,  0,  0,  0,\n",
       "         0,  0],\n",
       "       [ 0,  1,  0,  0,  0,  0,  0,  0,  0, 11,  0,  0,  0,  0,  0,  0,\n",
       "         0,  2],\n",
       "       [ 0,  0,  0,  0,  0,  0,  0,  0,  0,  0,  0,  0,  0,  0,  0,  0,\n",
       "         0,  0],\n",
       "       [ 0,  2,  0,  2,  1,  0,  0,  0,  0,  0,  0,  0,  0,  0,  0,  0,\n",
       "         0,  0],\n",
       "       [ 0,  1,  0,  1,  0,  0,  0,  0,  0,  0,  0,  0,  0,  0,  0,  0,\n",
       "         0,  0],\n",
       "       [ 0,  1,  0,  0,  0,  0,  0,  0,  0,  0,  0,  0,  0,  0,  0,  0,\n",
       "         0,  0],\n",
       "       [ 0,  0,  0,  0,  0,  0,  0,  0,  0,  0,  0,  0,  0,  0,  0,  1,\n",
       "         0,  0],\n",
       "       [ 0,  0,  0,  0,  0,  0,  0,  0,  0,  2,  1,  0,  0,  0,  0,  3,\n",
       "         0,  0],\n",
       "       [ 0,  4,  0,  1,  0,  0,  0,  0,  0,  4,  1,  0,  0,  0,  0,  0,\n",
       "         0,  5],\n",
       "       [ 0, 11,  0,  2,  1,  0,  0,  0,  0,  0,  0,  0,  0,  0,  0,  0,\n",
       "         1,  6]], dtype=int64)"
      ]
     },
     "execution_count": 37,
     "metadata": {},
     "output_type": "execute_result"
    }
   ],
   "source": [
    "# confusioin matatrix\n",
    "metrics.confusion_matrix(y_test_df,y_pred_1)"
   ]
  },
  {
   "cell_type": "code",
   "execution_count": 38,
   "metadata": {},
   "outputs": [
    {
     "name": "stdout",
     "output_type": "stream",
     "text": [
      "              precision    recall  f1-score   support\n",
      "\n",
      "         agn       0.00      0.00      0.00        20\n",
      "         bcu       0.52      0.62      0.56       157\n",
      "         bin       0.00      0.00      0.00         2\n",
      "         bll       0.66      0.70      0.68       137\n",
      "        fsrq       0.67      0.67      0.67        82\n",
      "         glc       0.00      0.00      0.00         3\n",
      "         hmb       0.00      0.00      0.00         1\n",
      "         msp       0.56      0.69      0.62        13\n",
      "       nlsy1       0.00      0.00      0.00         1\n",
      "         psr       0.50      0.79      0.61        14\n",
      "         pwn       0.00      0.00      0.00         0\n",
      "         rdg       0.00      0.00      0.00         5\n",
      "         sbg       0.00      0.00      0.00         2\n",
      "         sey       0.00      0.00      0.00         1\n",
      "         sfr       0.00      0.00      0.00         1\n",
      "         snr       0.60      0.50      0.55         6\n",
      "         spp       0.00      0.00      0.00        15\n",
      "         unk       0.33      0.29      0.31        21\n",
      "\n",
      "    accuracy                           0.58       481\n",
      "   macro avg       0.21      0.24      0.22       481\n",
      "weighted avg       0.52      0.58      0.55       481\n",
      "\n"
     ]
    },
    {
     "name": "stderr",
     "output_type": "stream",
     "text": [
      "C:\\ProgramData\\Anaconda3\\lib\\site-packages\\sklearn\\metrics\\_classification.py:1248: UndefinedMetricWarning: Precision and F-score are ill-defined and being set to 0.0 in labels with no predicted samples. Use `zero_division` parameter to control this behavior.\n",
      "  _warn_prf(average, modifier, msg_start, len(result))\n",
      "C:\\ProgramData\\Anaconda3\\lib\\site-packages\\sklearn\\metrics\\_classification.py:1248: UndefinedMetricWarning: Recall and F-score are ill-defined and being set to 0.0 in labels with no true samples. Use `zero_division` parameter to control this behavior.\n",
      "  _warn_prf(average, modifier, msg_start, len(result))\n",
      "C:\\ProgramData\\Anaconda3\\lib\\site-packages\\sklearn\\metrics\\_classification.py:1248: UndefinedMetricWarning: Precision and F-score are ill-defined and being set to 0.0 in labels with no predicted samples. Use `zero_division` parameter to control this behavior.\n",
      "  _warn_prf(average, modifier, msg_start, len(result))\n",
      "C:\\ProgramData\\Anaconda3\\lib\\site-packages\\sklearn\\metrics\\_classification.py:1248: UndefinedMetricWarning: Recall and F-score are ill-defined and being set to 0.0 in labels with no true samples. Use `zero_division` parameter to control this behavior.\n",
      "  _warn_prf(average, modifier, msg_start, len(result))\n",
      "C:\\ProgramData\\Anaconda3\\lib\\site-packages\\sklearn\\metrics\\_classification.py:1248: UndefinedMetricWarning: Precision and F-score are ill-defined and being set to 0.0 in labels with no predicted samples. Use `zero_division` parameter to control this behavior.\n",
      "  _warn_prf(average, modifier, msg_start, len(result))\n",
      "C:\\ProgramData\\Anaconda3\\lib\\site-packages\\sklearn\\metrics\\_classification.py:1248: UndefinedMetricWarning: Recall and F-score are ill-defined and being set to 0.0 in labels with no true samples. Use `zero_division` parameter to control this behavior.\n",
      "  _warn_prf(average, modifier, msg_start, len(result))\n"
     ]
    }
   ],
   "source": [
    "#printing the classification report\n",
    "print(metrics.classification_report(y_test_df,y_pred_1))"
   ]
  },
  {
   "cell_type": "code",
   "execution_count": 39,
   "metadata": {},
   "outputs": [
    {
     "name": "stdout",
     "output_type": "stream",
     "text": [
      "Accuracy :0.5758835758835759\n",
      "True and predicted value comparison\n",
      "    True Predicted\n",
      "0    bcu       bcu\n",
      "1    bcu       bcu\n",
      "2    bcu       bll\n",
      "3    bll       bll\n",
      "4    bcu       bll\n",
      "..   ...       ...\n",
      "476  bll       bll\n",
      "477  unk       bcu\n",
      "478  bcu       bcu\n",
      "479  bcu       bcu\n",
      "480  snr       snr\n",
      "\n",
      "[481 rows x 2 columns]\n",
      "Confusion matrix\n",
      "[[ 0 14  0  2  3  0  0  0  0  0  0  0  0  0  0  0  0  1]\n",
      " [ 0 97  0 39 16  0  0  4  0  0  0  0  0  0  0  0  0  1]\n",
      " [ 0  1  0  0  0  0  0  0  0  1  0  0  0  0  0  0  0  0]\n",
      " [ 0 32  0 96  5  0  0  0  0  0  1  0  0  0  0  1  0  2]\n",
      " [ 1 20  0  2 55  0  0  1  0  2  1  0  0  0  0  0  0  0]\n",
      " [ 0  1  0  0  0  0  0  2  0  0  0  0  0  0  0  0  0  0]\n",
      " [ 0  0  0  0  0  0  0  0  0  1  0  0  0  0  0  0  0  0]\n",
      " [ 0  2  0  0  0  0  0  9  0  1  0  0  0  0  0  0  0  1]\n",
      " [ 0  0  0  0  1  0  0  0  0  0  0  0  0  0  0  0  0  0]\n",
      " [ 0  1  0  0  0  0  0  0  0 11  0  0  0  0  0  0  0  2]\n",
      " [ 0  0  0  0  0  0  0  0  0  0  0  0  0  0  0  0  0  0]\n",
      " [ 0  2  0  2  1  0  0  0  0  0  0  0  0  0  0  0  0  0]\n",
      " [ 0  1  0  1  0  0  0  0  0  0  0  0  0  0  0  0  0  0]\n",
      " [ 0  1  0  0  0  0  0  0  0  0  0  0  0  0  0  0  0  0]\n",
      " [ 0  0  0  0  0  0  0  0  0  0  0  0  0  0  0  1  0  0]\n",
      " [ 0  0  0  0  0  0  0  0  0  2  1  0  0  0  0  3  0  0]\n",
      " [ 0  4  0  1  0  0  0  0  0  4  1  0  0  0  0  0  0  5]\n",
      " [ 0 11  0  2  1  0  0  0  0  0  0  0  0  0  0  0  1  6]]\n",
      "Classification Report\n",
      "              precision    recall  f1-score   support\n",
      "\n",
      "         agn       0.00      0.00      0.00        20\n",
      "         bcu       0.52      0.62      0.56       157\n",
      "         bin       0.00      0.00      0.00         2\n",
      "         bll       0.66      0.70      0.68       137\n",
      "        fsrq       0.67      0.67      0.67        82\n",
      "         glc       0.00      0.00      0.00         3\n",
      "         hmb       0.00      0.00      0.00         1\n",
      "         msp       0.56      0.69      0.62        13\n",
      "       nlsy1       0.00      0.00      0.00         1\n",
      "         psr       0.50      0.79      0.61        14\n",
      "         pwn       0.00      0.00      0.00         0\n",
      "         rdg       0.00      0.00      0.00         5\n",
      "         sbg       0.00      0.00      0.00         2\n",
      "         sey       0.00      0.00      0.00         1\n",
      "         sfr       0.00      0.00      0.00         1\n",
      "         snr       0.60      0.50      0.55         6\n",
      "         spp       0.00      0.00      0.00        15\n",
      "         unk       0.33      0.29      0.31        21\n",
      "\n",
      "    accuracy                           0.58       481\n",
      "   macro avg       0.21      0.24      0.22       481\n",
      "weighted avg       0.52      0.58      0.55       481\n",
      "\n"
     ]
    },
    {
     "name": "stderr",
     "output_type": "stream",
     "text": [
      "C:\\ProgramData\\Anaconda3\\lib\\site-packages\\sklearn\\metrics\\_classification.py:1248: UndefinedMetricWarning: Precision and F-score are ill-defined and being set to 0.0 in labels with no predicted samples. Use `zero_division` parameter to control this behavior.\n",
      "  _warn_prf(average, modifier, msg_start, len(result))\n",
      "C:\\ProgramData\\Anaconda3\\lib\\site-packages\\sklearn\\metrics\\_classification.py:1248: UndefinedMetricWarning: Recall and F-score are ill-defined and being set to 0.0 in labels with no true samples. Use `zero_division` parameter to control this behavior.\n",
      "  _warn_prf(average, modifier, msg_start, len(result))\n",
      "C:\\ProgramData\\Anaconda3\\lib\\site-packages\\sklearn\\metrics\\_classification.py:1248: UndefinedMetricWarning: Precision and F-score are ill-defined and being set to 0.0 in labels with no predicted samples. Use `zero_division` parameter to control this behavior.\n",
      "  _warn_prf(average, modifier, msg_start, len(result))\n",
      "C:\\ProgramData\\Anaconda3\\lib\\site-packages\\sklearn\\metrics\\_classification.py:1248: UndefinedMetricWarning: Recall and F-score are ill-defined and being set to 0.0 in labels with no true samples. Use `zero_division` parameter to control this behavior.\n",
      "  _warn_prf(average, modifier, msg_start, len(result))\n",
      "C:\\ProgramData\\Anaconda3\\lib\\site-packages\\sklearn\\metrics\\_classification.py:1248: UndefinedMetricWarning: Precision and F-score are ill-defined and being set to 0.0 in labels with no predicted samples. Use `zero_division` parameter to control this behavior.\n",
      "  _warn_prf(average, modifier, msg_start, len(result))\n",
      "C:\\ProgramData\\Anaconda3\\lib\\site-packages\\sklearn\\metrics\\_classification.py:1248: UndefinedMetricWarning: Recall and F-score are ill-defined and being set to 0.0 in labels with no true samples. Use `zero_division` parameter to control this behavior.\n",
      "  _warn_prf(average, modifier, msg_start, len(result))\n"
     ]
    }
   ],
   "source": [
    "def eval():\n",
    "    print(\"Accuracy :\" + str(metrics.accuracy_score(y_test_df,y_pred_1)))\n",
    "    print('True and predicted value comparison')\n",
    "    print(y_pred_final)\n",
    "    print('Confusion matrix')\n",
    "    print(metrics.confusion_matrix(y_test_df,y_pred_1))\n",
    "    print('Classification Report')\n",
    "    print(metrics.classification_report(y_test_df,y_pred_1))\n",
    "eval()"
   ]
  },
  {
   "cell_type": "markdown",
   "metadata": {
    "id": "FVYpDtvWWyEK"
   },
   "source": [
    "Our model gives us an accuracy of around 58 % on test data as well.\n",
    "It may not be extremely accurate but the consistent performance across the training and test data means our model is not overfitted."
   ]
  }
 ],
 "metadata": {
  "colab": {
   "provenance": []
  },
  "kernelspec": {
   "display_name": "Python 3 (ipykernel)",
   "language": "python",
   "name": "python3"
  },
  "language_info": {
   "codemirror_mode": {
    "name": "ipython",
    "version": 3
   },
   "file_extension": ".py",
   "mimetype": "text/x-python",
   "name": "python",
   "nbconvert_exporter": "python",
   "pygments_lexer": "ipython3",
   "version": "3.9.7"
  }
 },
 "nbformat": 4,
 "nbformat_minor": 4
}
